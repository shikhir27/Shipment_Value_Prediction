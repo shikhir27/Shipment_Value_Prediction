{
 "cells": [
  {
   "cell_type": "code",
   "execution_count": 4,
   "metadata": {},
   "outputs": [
    {
     "name": "stdout",
     "output_type": "stream",
     "text": [
      "Collecting tensorflow\n",
      "  Downloading tensorflow-2.3.0-cp37-cp37m-win_amd64.whl (342.5 MB)\n",
      "Requirement already satisfied: wrapt>=1.11.1 in d:\\softwareinstalls\\lib\\site-packages (from tensorflow) (1.11.2)\n",
      "Requirement already satisfied: h5py<2.11.0,>=2.10.0 in d:\\softwareinstalls\\lib\\site-packages (from tensorflow) (2.10.0)\n",
      "Collecting termcolor>=1.1.0\n",
      "  Downloading termcolor-1.1.0.tar.gz (3.9 kB)\n",
      "Requirement already satisfied: wheel>=0.26 in d:\\softwareinstalls\\lib\\site-packages (from tensorflow) (0.34.2)\n",
      "Collecting astunparse==1.6.3\n",
      "  Downloading astunparse-1.6.3-py2.py3-none-any.whl (12 kB)\n",
      "Requirement already satisfied: numpy<1.19.0,>=1.16.0 in d:\\softwareinstalls\\lib\\site-packages (from tensorflow) (1.18.1)\n",
      "Collecting opt-einsum>=2.3.2\n",
      "  Downloading opt_einsum-3.3.0-py3-none-any.whl (65 kB)\n",
      "Collecting keras-preprocessing<1.2,>=1.1.1\n",
      "  Downloading Keras_Preprocessing-1.1.2-py2.py3-none-any.whl (42 kB)\n",
      "Collecting protobuf>=3.9.2\n",
      "  Downloading protobuf-3.12.4-cp37-cp37m-win_amd64.whl (1.0 MB)\n",
      "Collecting tensorflow-estimator<2.4.0,>=2.3.0\n",
      "  Downloading tensorflow_estimator-2.3.0-py2.py3-none-any.whl (459 kB)\n",
      "Requirement already satisfied: six>=1.12.0 in d:\\softwareinstalls\\lib\\site-packages (from tensorflow) (1.14.0)\n",
      "Collecting grpcio>=1.8.6\n",
      "  Downloading grpcio-1.31.0-cp37-cp37m-win_amd64.whl (2.4 MB)\n",
      "Collecting absl-py>=0.7.0\n",
      "  Downloading absl-py-0.9.0.tar.gz (104 kB)\n",
      "Collecting tensorboard<3,>=2.3.0\n",
      "  Downloading tensorboard-2.3.0-py3-none-any.whl (6.8 MB)\n",
      "Collecting gast==0.3.3\n",
      "  Downloading gast-0.3.3-py2.py3-none-any.whl (9.7 kB)\n",
      "Requirement already satisfied: scipy==1.4.1 in d:\\softwareinstalls\\lib\\site-packages (from tensorflow) (1.4.1)\n",
      "Collecting google-pasta>=0.1.8\n",
      "  Downloading google_pasta-0.2.0-py3-none-any.whl (57 kB)\n",
      "Requirement already satisfied: setuptools in d:\\softwareinstalls\\lib\\site-packages (from protobuf>=3.9.2->tensorflow) (45.2.0.post20200210)\n",
      "Requirement already satisfied: werkzeug>=0.11.15 in d:\\softwareinstalls\\lib\\site-packages (from tensorboard<3,>=2.3.0->tensorflow) (1.0.0)\n",
      "Collecting markdown>=2.6.8\n",
      "  Downloading Markdown-3.2.2-py3-none-any.whl (88 kB)\n",
      "Collecting google-auth-oauthlib<0.5,>=0.4.1\n",
      "  Downloading google_auth_oauthlib-0.4.1-py2.py3-none-any.whl (18 kB)\n",
      "Requirement already satisfied: requests<3,>=2.21.0 in d:\\softwareinstalls\\lib\\site-packages (from tensorboard<3,>=2.3.0->tensorflow) (2.22.0)\n",
      "Collecting google-auth<2,>=1.6.3\n",
      "  Downloading google_auth-1.20.1-py2.py3-none-any.whl (91 kB)\n",
      "Collecting tensorboard-plugin-wit>=1.6.0\n",
      "  Downloading tensorboard_plugin_wit-1.7.0-py3-none-any.whl (779 kB)\n",
      "Requirement already satisfied: importlib-metadata; python_version < \"3.8\" in d:\\softwareinstalls\\lib\\site-packages (from markdown>=2.6.8->tensorboard<3,>=2.3.0->tensorflow) (1.5.0)\n",
      "Collecting requests-oauthlib>=0.7.0\n",
      "  Downloading requests_oauthlib-1.3.0-py2.py3-none-any.whl (23 kB)\n",
      "Requirement already satisfied: chardet<3.1.0,>=3.0.2 in d:\\softwareinstalls\\lib\\site-packages (from requests<3,>=2.21.0->tensorboard<3,>=2.3.0->tensorflow) (3.0.4)\n",
      "Requirement already satisfied: certifi>=2017.4.17 in d:\\softwareinstalls\\lib\\site-packages (from requests<3,>=2.21.0->tensorboard<3,>=2.3.0->tensorflow) (2019.11.28)\n",
      "Requirement already satisfied: idna<2.9,>=2.5 in d:\\softwareinstalls\\lib\\site-packages (from requests<3,>=2.21.0->tensorboard<3,>=2.3.0->tensorflow) (2.8)\n",
      "Requirement already satisfied: urllib3!=1.25.0,!=1.25.1,<1.26,>=1.21.1 in d:\\softwareinstalls\\lib\\site-packages (from requests<3,>=2.21.0->tensorboard<3,>=2.3.0->tensorflow) (1.25.8)\n",
      "Collecting cachetools<5.0,>=2.0.0\n",
      "  Downloading cachetools-4.1.1-py3-none-any.whl (10 kB)\n",
      "Collecting rsa<5,>=3.1.4; python_version >= \"3.5\"\n",
      "  Downloading rsa-4.6-py3-none-any.whl (47 kB)\n",
      "Collecting pyasn1-modules>=0.2.1\n",
      "  Downloading pyasn1_modules-0.2.8-py2.py3-none-any.whl (155 kB)\n",
      "Requirement already satisfied: zipp>=0.5 in d:\\softwareinstalls\\lib\\site-packages (from importlib-metadata; python_version < \"3.8\"->markdown>=2.6.8->tensorboard<3,>=2.3.0->tensorflow) (2.2.0)\n",
      "Collecting oauthlib>=3.0.0\n",
      "  Downloading oauthlib-3.1.0-py2.py3-none-any.whl (147 kB)\n",
      "Collecting pyasn1>=0.1.3\n",
      "  Downloading pyasn1-0.4.8-py2.py3-none-any.whl (77 kB)\n",
      "Building wheels for collected packages: termcolor, absl-py\n",
      "  Building wheel for termcolor (setup.py): started\n",
      "  Building wheel for termcolor (setup.py): finished with status 'done'\n",
      "  Created wheel for termcolor: filename=termcolor-1.1.0-py3-none-any.whl size=4835 sha256=2c5a667af6477a4ece0368dfa8a15ee8e12433c38573736bcf2eafbf208a0622\n",
      "  Stored in directory: c:\\users\\munish kumar\\appdata\\local\\pip\\cache\\wheels\\3f\\e3\\ec\\8a8336ff196023622fbcb36de0c5a5c218cbb24111d1d4c7f2\n",
      "  Building wheel for absl-py (setup.py): started\n",
      "  Building wheel for absl-py (setup.py): finished with status 'done'\n",
      "  Created wheel for absl-py: filename=absl_py-0.9.0-py3-none-any.whl size=121935 sha256=e3ffd7adcb89735c3f90b891a47396fcacaea7dade48b6a8277a4406f02d9ee2\n",
      "  Stored in directory: c:\\users\\munish kumar\\appdata\\local\\pip\\cache\\wheels\\cc\\af\\1a\\498a24d0730ef484019e007bb9e8cef3ac00311a672c049a3e\n",
      "Successfully built termcolor absl-py\n",
      "Installing collected packages: termcolor, astunparse, opt-einsum, keras-preprocessing, protobuf, tensorflow-estimator, grpcio, absl-py, markdown, cachetools, pyasn1, rsa, pyasn1-modules, google-auth, oauthlib, requests-oauthlib, google-auth-oauthlib, tensorboard-plugin-wit, tensorboard, gast, google-pasta, tensorflow\n",
      "Successfully installed absl-py-0.9.0 astunparse-1.6.3 cachetools-4.1.1 gast-0.3.3 google-auth-1.20.1 google-auth-oauthlib-0.4.1 google-pasta-0.2.0 grpcio-1.31.0 keras-preprocessing-1.1.2 markdown-3.2.2 oauthlib-3.1.0 opt-einsum-3.3.0 protobuf-3.12.4 pyasn1-0.4.8 pyasn1-modules-0.2.8 requests-oauthlib-1.3.0 rsa-4.6 tensorboard-2.3.0 tensorboard-plugin-wit-1.7.0 tensorflow-2.3.0 tensorflow-estimator-2.3.0 termcolor-1.1.0\n",
      "Note: you may need to restart the kernel to use updated packages.\n"
     ]
    }
   ],
   "source": [
    "pip install tensorflow"
   ]
  },
  {
   "cell_type": "code",
   "execution_count": 2,
   "metadata": {},
   "outputs": [
    {
     "name": "stdout",
     "output_type": "stream",
     "text": [
      "Collecting keras\n",
      "  Downloading Keras-2.4.3-py2.py3-none-any.whl (36 kB)\n",
      "Requirement already satisfied: scipy>=0.14 in d:\\softwareinstalls\\lib\\site-packages (from keras) (1.4.1)\n",
      "Requirement already satisfied: pyyaml in d:\\softwareinstalls\\lib\\site-packages (from keras) (5.3)\n",
      "Requirement already satisfied: numpy>=1.9.1 in d:\\softwareinstalls\\lib\\site-packages (from keras) (1.18.1)\n",
      "Requirement already satisfied: h5py in d:\\softwareinstalls\\lib\\site-packages (from keras) (2.10.0)\n",
      "Requirement already satisfied: six in d:\\softwareinstalls\\lib\\site-packages (from h5py->keras) (1.14.0)\n",
      "Installing collected packages: keras\n",
      "Successfully installed keras-2.4.3\n",
      "Note: you may need to restart the kernel to use updated packages.\n"
     ]
    }
   ],
   "source": [
    "pip install keras"
   ]
  },
  {
   "cell_type": "code",
   "execution_count": 1,
   "metadata": {},
   "outputs": [],
   "source": [
    "# importing all required libraries\n",
    "import numpy as np # used for handling numbers\n",
    "import pandas as pd # used for handling the dataset\n",
    "from sklearn.preprocessing import LabelEncoder, OneHotEncoder # used for encoding categorical data\n",
    "from sklearn.preprocessing import StandardScaler # used for feature scaling\n",
    "import os\n",
    "from statistics import mode, mean, median\n",
    "\n",
    "# visulization\n",
    "import matplotlib.pyplot as plt\n",
    "%matplotlib inline\n",
    "import seaborn as sns\n",
    "\n",
    "# Tranform\n",
    "from scipy.stats import boxcox\n",
    "from scipy.stats import skew\n",
    "from scipy.stats import kurtosis\n",
    "from scipy import stats\n",
    "\n",
    "# Models\n",
    "from sklearn.ensemble import GradientBoostingRegressor\n",
    "from sklearn.model_selection import train_test_split\n",
    "from sklearn import preprocessing\n",
    "from sklearn.linear_model import LinearRegression\n",
    "from sklearn.ensemble import RandomForestRegressor\n",
    "from sklearn.tree import DecisionTreeRegressor\n",
    "from sklearn.model_selection import cross_val_score\n",
    "from sklearn.model_selection import RandomizedSearchCV\n",
    "from scipy.stats import randint\n",
    "# from tensorflow.keras.models import Sequential\n",
    "# from tensorflow.keras.layers import Dense\n",
    "# from tensorflow.keras.callbacks import EarlyStopping\n",
    "\n",
    "# Matrix\n",
    "from sklearn.metrics import mean_absolute_error,mean_squared_error, r2_score, max_error,explained_variance_score"
   ]
  },
  {
   "cell_type": "code",
   "execution_count": 2,
   "metadata": {},
   "outputs": [],
   "source": [
    "pd.set_option('precision', 4)"
   ]
  },
  {
   "cell_type": "code",
   "execution_count": 3,
   "metadata": {},
   "outputs": [
    {
     "name": "stdout",
     "output_type": "stream",
     "text": [
      "Dataset is loaded\n"
     ]
    }
   ],
   "source": [
    "# Read CSV File from Data Folder\n",
    "filename = \"cfs_pumf.txt\"\n",
    "\n",
    "# check if data is in current folder. If not, go one step back \n",
    "if \"data\" in os.listdir():\n",
    "    print(\"Found data folder\")\n",
    "else:\n",
    "    os.chdir(\"../\")\n",
    "    \n",
    "try:\n",
    "    dataset = pd.read_csv(f'{os.getcwd()}\\\\data\\\\{filename}') \n",
    "    print(\"Dataset is loaded\")\n",
    "except IOError:\n",
    "    print(f'Could not find the data file {filename}')"
   ]
  },
  {
   "cell_type": "code",
   "execution_count": 4,
   "metadata": {},
   "outputs": [
    {
     "data": {
      "text/plain": [
       "'First 10 observations'"
      ]
     },
     "metadata": {},
     "output_type": "display_data"
    },
    {
     "data": {
      "text/html": [
       "<div>\n",
       "<style scoped>\n",
       "    .dataframe tbody tr th:only-of-type {\n",
       "        vertical-align: middle;\n",
       "    }\n",
       "\n",
       "    .dataframe tbody tr th {\n",
       "        vertical-align: top;\n",
       "    }\n",
       "\n",
       "    .dataframe thead th {\n",
       "        text-align: right;\n",
       "    }\n",
       "</style>\n",
       "<table border=\"1\" class=\"dataframe\">\n",
       "  <thead>\n",
       "    <tr style=\"text-align: right;\">\n",
       "      <th></th>\n",
       "      <th>SHIPMT_ID</th>\n",
       "      <th>ORIG_STATE</th>\n",
       "      <th>ORIG_MA</th>\n",
       "      <th>ORIG_CFS_AREA</th>\n",
       "      <th>DEST_STATE</th>\n",
       "      <th>DEST_MA</th>\n",
       "      <th>DEST_CFS_AREA</th>\n",
       "      <th>NAICS</th>\n",
       "      <th>QUARTER</th>\n",
       "      <th>SCTG</th>\n",
       "      <th>MODE</th>\n",
       "      <th>SHIPMT_VALUE</th>\n",
       "      <th>SHIPMT_WGHT</th>\n",
       "      <th>SHIPMT_DIST_GC</th>\n",
       "      <th>SHIPMT_DIST_ROUTED</th>\n",
       "      <th>TEMP_CNTL_YN</th>\n",
       "      <th>EXPORT_YN</th>\n",
       "      <th>EXPORT_CNTRY</th>\n",
       "      <th>HAZMAT</th>\n",
       "      <th>WGT_FACTOR</th>\n",
       "    </tr>\n",
       "  </thead>\n",
       "  <tbody>\n",
       "    <tr>\n",
       "      <th>0</th>\n",
       "      <td>1</td>\n",
       "      <td>25</td>\n",
       "      <td>148</td>\n",
       "      <td>25-148</td>\n",
       "      <td>25</td>\n",
       "      <td>148</td>\n",
       "      <td>25-148</td>\n",
       "      <td>333</td>\n",
       "      <td>2</td>\n",
       "      <td>35</td>\n",
       "      <td>14</td>\n",
       "      <td>2178</td>\n",
       "      <td>11</td>\n",
       "      <td>14</td>\n",
       "      <td>17</td>\n",
       "      <td>N</td>\n",
       "      <td>N</td>\n",
       "      <td>N</td>\n",
       "      <td>N</td>\n",
       "      <td>208.5</td>\n",
       "    </tr>\n",
       "    <tr>\n",
       "      <th>1</th>\n",
       "      <td>2</td>\n",
       "      <td>42</td>\n",
       "      <td>428</td>\n",
       "      <td>42-428</td>\n",
       "      <td>6</td>\n",
       "      <td>41740</td>\n",
       "      <td>06-41740</td>\n",
       "      <td>311</td>\n",
       "      <td>3</td>\n",
       "      <td>35</td>\n",
       "      <td>14</td>\n",
       "      <td>344</td>\n",
       "      <td>11</td>\n",
       "      <td>2344</td>\n",
       "      <td>2734</td>\n",
       "      <td>N</td>\n",
       "      <td>N</td>\n",
       "      <td>N</td>\n",
       "      <td>N</td>\n",
       "      <td>193.3</td>\n",
       "    </tr>\n",
       "    <tr>\n",
       "      <th>2</th>\n",
       "      <td>3</td>\n",
       "      <td>26</td>\n",
       "      <td>220</td>\n",
       "      <td>26-220</td>\n",
       "      <td>47</td>\n",
       "      <td>314</td>\n",
       "      <td>47-314</td>\n",
       "      <td>322</td>\n",
       "      <td>2</td>\n",
       "      <td>27</td>\n",
       "      <td>4</td>\n",
       "      <td>4197</td>\n",
       "      <td>5134</td>\n",
       "      <td>470</td>\n",
       "      <td>579</td>\n",
       "      <td>N</td>\n",
       "      <td>N</td>\n",
       "      <td>N</td>\n",
       "      <td>N</td>\n",
       "      <td>51.2</td>\n",
       "    </tr>\n",
       "    <tr>\n",
       "      <th>3</th>\n",
       "      <td>4</td>\n",
       "      <td>20</td>\n",
       "      <td>556</td>\n",
       "      <td>20-556</td>\n",
       "      <td>20</td>\n",
       "      <td>556</td>\n",
       "      <td>20-556</td>\n",
       "      <td>323</td>\n",
       "      <td>1</td>\n",
       "      <td>29</td>\n",
       "      <td>4</td>\n",
       "      <td>116</td>\n",
       "      <td>6</td>\n",
       "      <td>3</td>\n",
       "      <td>3</td>\n",
       "      <td>N</td>\n",
       "      <td>N</td>\n",
       "      <td>N</td>\n",
       "      <td>N</td>\n",
       "      <td>238.7</td>\n",
       "    </tr>\n",
       "    <tr>\n",
       "      <th>4</th>\n",
       "      <td>5</td>\n",
       "      <td>12</td>\n",
       "      <td>99999</td>\n",
       "      <td>12-99999</td>\n",
       "      <td>12</td>\n",
       "      <td>99999</td>\n",
       "      <td>12-99999</td>\n",
       "      <td>4235</td>\n",
       "      <td>3</td>\n",
       "      <td>33</td>\n",
       "      <td>5</td>\n",
       "      <td>388</td>\n",
       "      <td>527</td>\n",
       "      <td>124</td>\n",
       "      <td>201</td>\n",
       "      <td>N</td>\n",
       "      <td>N</td>\n",
       "      <td>N</td>\n",
       "      <td>N</td>\n",
       "      <td>398.1</td>\n",
       "    </tr>\n",
       "    <tr>\n",
       "      <th>5</th>\n",
       "      <td>6</td>\n",
       "      <td>24</td>\n",
       "      <td>47900</td>\n",
       "      <td>24-47900</td>\n",
       "      <td>30</td>\n",
       "      <td>99999</td>\n",
       "      <td>30-99999</td>\n",
       "      <td>337</td>\n",
       "      <td>2</td>\n",
       "      <td>40</td>\n",
       "      <td>4</td>\n",
       "      <td>3716</td>\n",
       "      <td>1132</td>\n",
       "      <td>1942</td>\n",
       "      <td>2265</td>\n",
       "      <td>N</td>\n",
       "      <td>Y</td>\n",
       "      <td>C</td>\n",
       "      <td>N</td>\n",
       "      <td>21.9</td>\n",
       "    </tr>\n",
       "    <tr>\n",
       "      <th>6</th>\n",
       "      <td>7</td>\n",
       "      <td>19</td>\n",
       "      <td>99999</td>\n",
       "      <td>19-99999</td>\n",
       "      <td>19</td>\n",
       "      <td>99999</td>\n",
       "      <td>19-99999</td>\n",
       "      <td>337</td>\n",
       "      <td>3</td>\n",
       "      <td>26</td>\n",
       "      <td>5</td>\n",
       "      <td>43738</td>\n",
       "      <td>13501</td>\n",
       "      <td>16</td>\n",
       "      <td>22</td>\n",
       "      <td>N</td>\n",
       "      <td>N</td>\n",
       "      <td>N</td>\n",
       "      <td>N</td>\n",
       "      <td>310.5</td>\n",
       "    </tr>\n",
       "    <tr>\n",
       "      <th>7</th>\n",
       "      <td>8</td>\n",
       "      <td>6</td>\n",
       "      <td>41740</td>\n",
       "      <td>06-41740</td>\n",
       "      <td>6</td>\n",
       "      <td>99999</td>\n",
       "      <td>06-99999</td>\n",
       "      <td>4239</td>\n",
       "      <td>1</td>\n",
       "      <td>40</td>\n",
       "      <td>14</td>\n",
       "      <td>77</td>\n",
       "      <td>4</td>\n",
       "      <td>272</td>\n",
       "      <td>306</td>\n",
       "      <td>N</td>\n",
       "      <td>N</td>\n",
       "      <td>N</td>\n",
       "      <td>N</td>\n",
       "      <td>138.5</td>\n",
       "    </tr>\n",
       "    <tr>\n",
       "      <th>8</th>\n",
       "      <td>9</td>\n",
       "      <td>19</td>\n",
       "      <td>99999</td>\n",
       "      <td>19-99999</td>\n",
       "      <td>19</td>\n",
       "      <td>99999</td>\n",
       "      <td>19-99999</td>\n",
       "      <td>327</td>\n",
       "      <td>3</td>\n",
       "      <td>31</td>\n",
       "      <td>5</td>\n",
       "      <td>338</td>\n",
       "      <td>12826</td>\n",
       "      <td>10</td>\n",
       "      <td>15</td>\n",
       "      <td>N</td>\n",
       "      <td>N</td>\n",
       "      <td>N</td>\n",
       "      <td>N</td>\n",
       "      <td>2695.9</td>\n",
       "    </tr>\n",
       "    <tr>\n",
       "      <th>9</th>\n",
       "      <td>10</td>\n",
       "      <td>13</td>\n",
       "      <td>99999</td>\n",
       "      <td>13-99999</td>\n",
       "      <td>13</td>\n",
       "      <td>99999</td>\n",
       "      <td>13-99999</td>\n",
       "      <td>4237</td>\n",
       "      <td>2</td>\n",
       "      <td>34</td>\n",
       "      <td>5</td>\n",
       "      <td>145</td>\n",
       "      <td>22</td>\n",
       "      <td>21</td>\n",
       "      <td>28</td>\n",
       "      <td>N</td>\n",
       "      <td>N</td>\n",
       "      <td>N</td>\n",
       "      <td>N</td>\n",
       "      <td>489.1</td>\n",
       "    </tr>\n",
       "  </tbody>\n",
       "</table>\n",
       "</div>"
      ],
      "text/plain": [
       "   SHIPMT_ID  ORIG_STATE  ORIG_MA ORIG_CFS_AREA  DEST_STATE  DEST_MA  \\\n",
       "0          1          25      148        25-148          25      148   \n",
       "1          2          42      428        42-428           6    41740   \n",
       "2          3          26      220        26-220          47      314   \n",
       "3          4          20      556        20-556          20      556   \n",
       "4          5          12    99999      12-99999          12    99999   \n",
       "5          6          24    47900      24-47900          30    99999   \n",
       "6          7          19    99999      19-99999          19    99999   \n",
       "7          8           6    41740      06-41740           6    99999   \n",
       "8          9          19    99999      19-99999          19    99999   \n",
       "9         10          13    99999      13-99999          13    99999   \n",
       "\n",
       "  DEST_CFS_AREA  NAICS  QUARTER SCTG  MODE  SHIPMT_VALUE  SHIPMT_WGHT  \\\n",
       "0        25-148    333        2   35    14          2178           11   \n",
       "1      06-41740    311        3   35    14           344           11   \n",
       "2        47-314    322        2   27     4          4197         5134   \n",
       "3        20-556    323        1   29     4           116            6   \n",
       "4      12-99999   4235        3   33     5           388          527   \n",
       "5      30-99999    337        2   40     4          3716         1132   \n",
       "6      19-99999    337        3   26     5         43738        13501   \n",
       "7      06-99999   4239        1   40    14            77            4   \n",
       "8      19-99999    327        3   31     5           338        12826   \n",
       "9      13-99999   4237        2   34     5           145           22   \n",
       "\n",
       "   SHIPMT_DIST_GC  SHIPMT_DIST_ROUTED TEMP_CNTL_YN EXPORT_YN EXPORT_CNTRY  \\\n",
       "0              14                  17            N         N            N   \n",
       "1            2344                2734            N         N            N   \n",
       "2             470                 579            N         N            N   \n",
       "3               3                   3            N         N            N   \n",
       "4             124                 201            N         N            N   \n",
       "5            1942                2265            N         Y            C   \n",
       "6              16                  22            N         N            N   \n",
       "7             272                 306            N         N            N   \n",
       "8              10                  15            N         N            N   \n",
       "9              21                  28            N         N            N   \n",
       "\n",
       "  HAZMAT  WGT_FACTOR  \n",
       "0      N       208.5  \n",
       "1      N       193.3  \n",
       "2      N        51.2  \n",
       "3      N       238.7  \n",
       "4      N       398.1  \n",
       "5      N        21.9  \n",
       "6      N       310.5  \n",
       "7      N       138.5  \n",
       "8      N      2695.9  \n",
       "9      N       489.1  "
      ]
     },
     "metadata": {},
     "output_type": "display_data"
    },
    {
     "data": {
      "text/plain": [
       "'Last 10 observations'"
      ]
     },
     "metadata": {},
     "output_type": "display_data"
    },
    {
     "data": {
      "text/html": [
       "<div>\n",
       "<style scoped>\n",
       "    .dataframe tbody tr th:only-of-type {\n",
       "        vertical-align: middle;\n",
       "    }\n",
       "\n",
       "    .dataframe tbody tr th {\n",
       "        vertical-align: top;\n",
       "    }\n",
       "\n",
       "    .dataframe thead th {\n",
       "        text-align: right;\n",
       "    }\n",
       "</style>\n",
       "<table border=\"1\" class=\"dataframe\">\n",
       "  <thead>\n",
       "    <tr style=\"text-align: right;\">\n",
       "      <th></th>\n",
       "      <th>SHIPMT_ID</th>\n",
       "      <th>ORIG_STATE</th>\n",
       "      <th>ORIG_MA</th>\n",
       "      <th>ORIG_CFS_AREA</th>\n",
       "      <th>DEST_STATE</th>\n",
       "      <th>DEST_MA</th>\n",
       "      <th>DEST_CFS_AREA</th>\n",
       "      <th>NAICS</th>\n",
       "      <th>QUARTER</th>\n",
       "      <th>SCTG</th>\n",
       "      <th>MODE</th>\n",
       "      <th>SHIPMT_VALUE</th>\n",
       "      <th>SHIPMT_WGHT</th>\n",
       "      <th>SHIPMT_DIST_GC</th>\n",
       "      <th>SHIPMT_DIST_ROUTED</th>\n",
       "      <th>TEMP_CNTL_YN</th>\n",
       "      <th>EXPORT_YN</th>\n",
       "      <th>EXPORT_CNTRY</th>\n",
       "      <th>HAZMAT</th>\n",
       "      <th>WGT_FACTOR</th>\n",
       "    </tr>\n",
       "  </thead>\n",
       "  <tbody>\n",
       "    <tr>\n",
       "      <th>4547651</th>\n",
       "      <td>4547652</td>\n",
       "      <td>39</td>\n",
       "      <td>99999</td>\n",
       "      <td>39-99999</td>\n",
       "      <td>39</td>\n",
       "      <td>99999</td>\n",
       "      <td>39-99999</td>\n",
       "      <td>323</td>\n",
       "      <td>2</td>\n",
       "      <td>29</td>\n",
       "      <td>4</td>\n",
       "      <td>247</td>\n",
       "      <td>62</td>\n",
       "      <td>20</td>\n",
       "      <td>29</td>\n",
       "      <td>N</td>\n",
       "      <td>N</td>\n",
       "      <td>N</td>\n",
       "      <td>N</td>\n",
       "      <td>129.5</td>\n",
       "    </tr>\n",
       "    <tr>\n",
       "      <th>4547652</th>\n",
       "      <td>4547653</td>\n",
       "      <td>51</td>\n",
       "      <td>40060</td>\n",
       "      <td>51-40060</td>\n",
       "      <td>37</td>\n",
       "      <td>450</td>\n",
       "      <td>37-450</td>\n",
       "      <td>321</td>\n",
       "      <td>3</td>\n",
       "      <td>26</td>\n",
       "      <td>5</td>\n",
       "      <td>3371</td>\n",
       "      <td>26250</td>\n",
       "      <td>158</td>\n",
       "      <td>173</td>\n",
       "      <td>N</td>\n",
       "      <td>N</td>\n",
       "      <td>N</td>\n",
       "      <td>N</td>\n",
       "      <td>280.8</td>\n",
       "    </tr>\n",
       "    <tr>\n",
       "      <th>4547653</th>\n",
       "      <td>4547654</td>\n",
       "      <td>19</td>\n",
       "      <td>99999</td>\n",
       "      <td>19-99999</td>\n",
       "      <td>17</td>\n",
       "      <td>99999</td>\n",
       "      <td>17-99999</td>\n",
       "      <td>4234</td>\n",
       "      <td>3</td>\n",
       "      <td>21</td>\n",
       "      <td>5</td>\n",
       "      <td>23587</td>\n",
       "      <td>4718</td>\n",
       "      <td>172</td>\n",
       "      <td>182</td>\n",
       "      <td>N</td>\n",
       "      <td>N</td>\n",
       "      <td>N</td>\n",
       "      <td>N</td>\n",
       "      <td>175.3</td>\n",
       "    </tr>\n",
       "    <tr>\n",
       "      <th>4547654</th>\n",
       "      <td>4547655</td>\n",
       "      <td>12</td>\n",
       "      <td>422</td>\n",
       "      <td>12-422</td>\n",
       "      <td>29</td>\n",
       "      <td>99999</td>\n",
       "      <td>29-99999</td>\n",
       "      <td>332</td>\n",
       "      <td>3</td>\n",
       "      <td>33</td>\n",
       "      <td>4</td>\n",
       "      <td>6804</td>\n",
       "      <td>1201</td>\n",
       "      <td>886</td>\n",
       "      <td>1216</td>\n",
       "      <td>N</td>\n",
       "      <td>N</td>\n",
       "      <td>N</td>\n",
       "      <td>N</td>\n",
       "      <td>63.0</td>\n",
       "    </tr>\n",
       "    <tr>\n",
       "      <th>4547655</th>\n",
       "      <td>4547656</td>\n",
       "      <td>48</td>\n",
       "      <td>206</td>\n",
       "      <td>48-206</td>\n",
       "      <td>48</td>\n",
       "      <td>206</td>\n",
       "      <td>48-206</td>\n",
       "      <td>4237</td>\n",
       "      <td>3</td>\n",
       "      <td>33</td>\n",
       "      <td>5</td>\n",
       "      <td>1820</td>\n",
       "      <td>38</td>\n",
       "      <td>3</td>\n",
       "      <td>5</td>\n",
       "      <td>N</td>\n",
       "      <td>N</td>\n",
       "      <td>N</td>\n",
       "      <td>N</td>\n",
       "      <td>1679.3</td>\n",
       "    </tr>\n",
       "    <tr>\n",
       "      <th>4547656</th>\n",
       "      <td>4547657</td>\n",
       "      <td>9</td>\n",
       "      <td>408</td>\n",
       "      <td>09-408</td>\n",
       "      <td>34</td>\n",
       "      <td>408</td>\n",
       "      <td>34-408</td>\n",
       "      <td>323</td>\n",
       "      <td>4</td>\n",
       "      <td>29</td>\n",
       "      <td>14</td>\n",
       "      <td>7988</td>\n",
       "      <td>133</td>\n",
       "      <td>122</td>\n",
       "      <td>152</td>\n",
       "      <td>N</td>\n",
       "      <td>N</td>\n",
       "      <td>N</td>\n",
       "      <td>N</td>\n",
       "      <td>260.6</td>\n",
       "    </tr>\n",
       "    <tr>\n",
       "      <th>4547657</th>\n",
       "      <td>4547658</td>\n",
       "      <td>39</td>\n",
       "      <td>178</td>\n",
       "      <td>39-178</td>\n",
       "      <td>28</td>\n",
       "      <td>99999</td>\n",
       "      <td>28-99999</td>\n",
       "      <td>311</td>\n",
       "      <td>3</td>\n",
       "      <td>05</td>\n",
       "      <td>4</td>\n",
       "      <td>50808</td>\n",
       "      <td>29887</td>\n",
       "      <td>561</td>\n",
       "      <td>683</td>\n",
       "      <td>Y</td>\n",
       "      <td>N</td>\n",
       "      <td>N</td>\n",
       "      <td>N</td>\n",
       "      <td>20.0</td>\n",
       "    </tr>\n",
       "    <tr>\n",
       "      <th>4547658</th>\n",
       "      <td>4547659</td>\n",
       "      <td>36</td>\n",
       "      <td>408</td>\n",
       "      <td>36-408</td>\n",
       "      <td>36</td>\n",
       "      <td>408</td>\n",
       "      <td>36-408</td>\n",
       "      <td>336</td>\n",
       "      <td>4</td>\n",
       "      <td>36</td>\n",
       "      <td>5</td>\n",
       "      <td>685</td>\n",
       "      <td>137</td>\n",
       "      <td>13</td>\n",
       "      <td>16</td>\n",
       "      <td>N</td>\n",
       "      <td>N</td>\n",
       "      <td>N</td>\n",
       "      <td>N</td>\n",
       "      <td>164.3</td>\n",
       "    </tr>\n",
       "    <tr>\n",
       "      <th>4547659</th>\n",
       "      <td>4547660</td>\n",
       "      <td>48</td>\n",
       "      <td>12420</td>\n",
       "      <td>48-12420</td>\n",
       "      <td>48</td>\n",
       "      <td>12420</td>\n",
       "      <td>48-12420</td>\n",
       "      <td>4233</td>\n",
       "      <td>3</td>\n",
       "      <td>33</td>\n",
       "      <td>5</td>\n",
       "      <td>915</td>\n",
       "      <td>1240</td>\n",
       "      <td>20</td>\n",
       "      <td>22</td>\n",
       "      <td>N</td>\n",
       "      <td>N</td>\n",
       "      <td>N</td>\n",
       "      <td>N</td>\n",
       "      <td>1059.9</td>\n",
       "    </tr>\n",
       "    <tr>\n",
       "      <th>4547660</th>\n",
       "      <td>4547661</td>\n",
       "      <td>30</td>\n",
       "      <td>99999</td>\n",
       "      <td>30-99999</td>\n",
       "      <td>30</td>\n",
       "      <td>99999</td>\n",
       "      <td>30-99999</td>\n",
       "      <td>325</td>\n",
       "      <td>1</td>\n",
       "      <td>23</td>\n",
       "      <td>4</td>\n",
       "      <td>22482</td>\n",
       "      <td>75952</td>\n",
       "      <td>12</td>\n",
       "      <td>12</td>\n",
       "      <td>N</td>\n",
       "      <td>N</td>\n",
       "      <td>N</td>\n",
       "      <td>N</td>\n",
       "      <td>66.1</td>\n",
       "    </tr>\n",
       "  </tbody>\n",
       "</table>\n",
       "</div>"
      ],
      "text/plain": [
       "         SHIPMT_ID  ORIG_STATE  ORIG_MA ORIG_CFS_AREA  DEST_STATE  DEST_MA  \\\n",
       "4547651    4547652          39    99999      39-99999          39    99999   \n",
       "4547652    4547653          51    40060      51-40060          37      450   \n",
       "4547653    4547654          19    99999      19-99999          17    99999   \n",
       "4547654    4547655          12      422        12-422          29    99999   \n",
       "4547655    4547656          48      206        48-206          48      206   \n",
       "4547656    4547657           9      408        09-408          34      408   \n",
       "4547657    4547658          39      178        39-178          28    99999   \n",
       "4547658    4547659          36      408        36-408          36      408   \n",
       "4547659    4547660          48    12420      48-12420          48    12420   \n",
       "4547660    4547661          30    99999      30-99999          30    99999   \n",
       "\n",
       "        DEST_CFS_AREA  NAICS  QUARTER SCTG  MODE  SHIPMT_VALUE  SHIPMT_WGHT  \\\n",
       "4547651      39-99999    323        2   29     4           247           62   \n",
       "4547652        37-450    321        3   26     5          3371        26250   \n",
       "4547653      17-99999   4234        3   21     5         23587         4718   \n",
       "4547654      29-99999    332        3   33     4          6804         1201   \n",
       "4547655        48-206   4237        3   33     5          1820           38   \n",
       "4547656        34-408    323        4   29    14          7988          133   \n",
       "4547657      28-99999    311        3   05     4         50808        29887   \n",
       "4547658        36-408    336        4   36     5           685          137   \n",
       "4547659      48-12420   4233        3   33     5           915         1240   \n",
       "4547660      30-99999    325        1   23     4         22482        75952   \n",
       "\n",
       "         SHIPMT_DIST_GC  SHIPMT_DIST_ROUTED TEMP_CNTL_YN EXPORT_YN  \\\n",
       "4547651              20                  29            N         N   \n",
       "4547652             158                 173            N         N   \n",
       "4547653             172                 182            N         N   \n",
       "4547654             886                1216            N         N   \n",
       "4547655               3                   5            N         N   \n",
       "4547656             122                 152            N         N   \n",
       "4547657             561                 683            Y         N   \n",
       "4547658              13                  16            N         N   \n",
       "4547659              20                  22            N         N   \n",
       "4547660              12                  12            N         N   \n",
       "\n",
       "        EXPORT_CNTRY HAZMAT  WGT_FACTOR  \n",
       "4547651            N      N       129.5  \n",
       "4547652            N      N       280.8  \n",
       "4547653            N      N       175.3  \n",
       "4547654            N      N        63.0  \n",
       "4547655            N      N      1679.3  \n",
       "4547656            N      N       260.6  \n",
       "4547657            N      N        20.0  \n",
       "4547658            N      N       164.3  \n",
       "4547659            N      N      1059.9  \n",
       "4547660            N      N        66.1  "
      ]
     },
     "metadata": {},
     "output_type": "display_data"
    }
   ],
   "source": [
    "# Analyze first and last 10 rows\n",
    "display(\"First 10 observations\", dataset.head(10))\n",
    "display(\"Last 10 observations\", dataset.tail(10))"
   ]
  },
  {
   "cell_type": "code",
   "execution_count": 5,
   "metadata": {},
   "outputs": [
    {
     "name": "stdout",
     "output_type": "stream",
     "text": [
      "False\n"
     ]
    }
   ],
   "source": [
    "# Setting Shipment Id as the index for the dataset\n",
    "is_dupliate_In_Shipment_Id = dataset['SHIPMT_ID'].duplicated().any()\n",
    "print(is_dupliate_In_Shipment_Id)\n",
    "del is_dupliate_In_Shipment_Id\n",
    "dataset.set_index('SHIPMT_ID',inplace=True)"
   ]
  },
  {
   "cell_type": "code",
   "execution_count": 6,
   "metadata": {},
   "outputs": [
    {
     "data": {
      "text/plain": [
       "EXPORT_CNTRY    1\n",
       "EXPORT_YN       1\n",
       "dtype: int64"
      ]
     },
     "execution_count": 6,
     "metadata": {},
     "output_type": "execute_result"
    }
   ],
   "source": [
    "# dropping EXPORT_YN=='Y', inconsistency in data where EXPORT_YN=='Y', incorrect destination and distance.\n",
    "dataset = dataset[dataset['EXPORT_YN'] == 'N']\n",
    "\n",
    "# Reason for filtering this columns with N\n",
    "dataset[['EXPORT_CNTRY', 'EXPORT_YN']].nunique()\n"
   ]
  },
  {
   "cell_type": "code",
   "execution_count": 7,
   "metadata": {},
   "outputs": [],
   "source": [
    "# Removing ORIG_CFS_AREA and DEST_CFS_AREA as these columsn are derived from\n",
    "dataset.drop(['ORIG_CFS_AREA', 'DEST_CFS_AREA', 'EXPORT_CNTRY', 'EXPORT_YN', 'NAICS'], axis=1, inplace = True)\n",
    "\n",
    "# Reason for dropping these columns"
   ]
  },
  {
   "cell_type": "code",
   "execution_count": 8,
   "metadata": {},
   "outputs": [
    {
     "name": "stdout",
     "output_type": "stream",
     "text": [
      "<class 'pandas.core.frame.DataFrame'>\n",
      "Int64Index: 4361940 entries, 1 to 4547661\n",
      "Data columns (total 14 columns):\n",
      " #   Column              Dtype  \n",
      "---  ------              -----  \n",
      " 0   ORIG_STATE          int64  \n",
      " 1   ORIG_MA             int64  \n",
      " 2   DEST_STATE          int64  \n",
      " 3   DEST_MA             int64  \n",
      " 4   QUARTER             int64  \n",
      " 5   SCTG                object \n",
      " 6   MODE                int64  \n",
      " 7   SHIPMT_VALUE        int64  \n",
      " 8   SHIPMT_WGHT         int64  \n",
      " 9   SHIPMT_DIST_GC      int64  \n",
      " 10  SHIPMT_DIST_ROUTED  int64  \n",
      " 11  TEMP_CNTL_YN        object \n",
      " 12  HAZMAT              object \n",
      " 13  WGT_FACTOR          float64\n",
      "dtypes: float64(1), int64(10), object(3)\n",
      "memory usage: 499.2+ MB\n"
     ]
    }
   ],
   "source": [
    "# Analyze the datatype of all the variables and convert to appropriate one\n",
    "dataset.info()"
   ]
  },
  {
   "cell_type": "code",
   "execution_count": 9,
   "metadata": {},
   "outputs": [
    {
     "name": "stdout",
     "output_type": "stream",
     "text": [
      "<class 'pandas.core.frame.DataFrame'>\n",
      "Int64Index: 4361940 entries, 1 to 4547661\n",
      "Data columns (total 14 columns):\n",
      " #   Column              Dtype  \n",
      "---  ------              -----  \n",
      " 0   ORIG_STATE          object \n",
      " 1   ORIG_MA             object \n",
      " 2   DEST_STATE          object \n",
      " 3   DEST_MA             object \n",
      " 4   QUARTER             object \n",
      " 5   SCTG                object \n",
      " 6   MODE                object \n",
      " 7   SHIPMT_VALUE        int64  \n",
      " 8   SHIPMT_WGHT         int64  \n",
      " 9   SHIPMT_DIST_GC      int64  \n",
      " 10  SHIPMT_DIST_ROUTED  int64  \n",
      " 11  TEMP_CNTL_YN        object \n",
      " 12  HAZMAT              object \n",
      " 13  WGT_FACTOR          float64\n",
      "dtypes: float64(1), int64(4), object(9)\n",
      "memory usage: 499.2+ MB\n"
     ]
    }
   ],
   "source": [
    "#Convert datatype of below variables to appropriate one\n",
    "dataset.ORIG_STATE = dataset.ORIG_STATE.astype(str)\n",
    "dataset.ORIG_MA = dataset.ORIG_MA.astype(str)\n",
    "dataset.DEST_STATE = dataset.DEST_STATE.astype(str)\n",
    "dataset.DEST_MA = dataset.DEST_MA.astype(str)\n",
    "dataset.QUARTER = dataset.QUARTER.astype(str)\n",
    "dataset.MODE = dataset.MODE.astype(str)\n",
    "\n",
    "# Verify dataset again\n",
    "dataset.info()"
   ]
  },
  {
   "cell_type": "markdown",
   "metadata": {},
   "source": [
    "# Preprocessing for Categorical Variables"
   ]
  },
  {
   "cell_type": "code",
   "execution_count": 10,
   "metadata": {},
   "outputs": [
    {
     "name": "stdout",
     "output_type": "stream",
     "text": [
      "ORIG_STATE:\n",
      "      ['25' '42' '26' '20' '12' '19' '6' '13' '55' '39' '33' '31' '54' '32' '9'\n",
      " '17' '37' '48' '18' '29' '49' '36' '27' '53' '47' '34' '5' '38' '56' '1'\n",
      " '51' '23' '45' '8' '35' '4' '21' '28' '41' '44' '2' '16' '40' '46' '22'\n",
      " '15' '30' '24' '10' '50' '11' '0']\n",
      "ORIG_MA:\n",
      "      ['148' '428' '220' '556' '99999' '41740' '184' '332' '408' '450' '172'\n",
      " '176' '348' '476' '482' '122' '104' '378' '370' '41700' '440' '400' '368'\n",
      " '420' '206' '268' '545' '312' '376' '40060' '142' '216' '25540' '38060'\n",
      " '350' '430' '266' '294' '178' '300' '488' '0' '472' '238' '416' '47900'\n",
      " '260' '288' '212' '273' '12940' '536' '500' '160' '464' '198' '45300'\n",
      " '538' '406' '46520' '12580' '258' '380' '422' '314' '12420' '496' '29340'\n",
      " '13140' '16700' '29700' '204']\n",
      "DEST_STATE:\n",
      "      ['25' '6' '47' '20' '12' '19' '13' '36' '42' '34' '31' '27' '39' '51' '48'\n",
      " '37' '55' '17' '49' '44' '18' '29' '1' '26' '9' '54' '32' '38' '40' '23'\n",
      " '45' '28' '8' '56' '4' '53' '21' '24' '33' '41' '2' '5' '22' '46' '16'\n",
      " '15' '30' '35' '50' '10' '11']\n",
      "DEST_MA:\n",
      "      ['148' '41740' '314' '556' '99999' '464' '408' '198' '288' '400' '184'\n",
      " '268' '122' '312' '482' '176' '104' '378' '545' '376' '370' '41700' '220'\n",
      " '420' '206' '348' '178' '416' '273' '216' '238' '40060' '38060' '212'\n",
      " '500' '450' '430' '428' '294' '47900' '536' '172' '488' '476' '440' '472'\n",
      " '16700' '25540' '12940' '204' '368' '258' '12580' '142' '45300' '422'\n",
      " '538' '350' '12420' '300' '260' '406' '29340' '332' '46520' '160' '29700'\n",
      " '496' '266' '380' '13140']\n",
      "QUARTER:\n",
      "      ['2' '3' '1' '4']\n",
      "SCTG:\n",
      "      ['35' '27' '29' '33' '26' '40' '31' '34' '20' '21' '04' '36' '25' '30'\n",
      " '24' '32' '39' '05' '28' '03' '19' '12' '23' '17' '43' '38' '06' '41'\n",
      " '08' '07' '02' '18' '25-30' '37' '22' '15' '11' '13' '01-05' '09' '10-14'\n",
      " '10' '06-09' '14' '20-24' '01' '31-34' '35-38' '15-19' '00' '39-99' '99']\n",
      "MODE:\n",
      "      ['14' '4' '5' '6' '11' '2' '12' '8' '15' '13' '16' '10' '0' '20' '3' '17'\n",
      " '19' '7' '9' '101']\n",
      "TEMP_CNTL_YN:\n",
      "      ['N' 'Y']\n",
      "HAZMAT:\n",
      "      ['N' 'H' 'P']\n"
     ]
    }
   ],
   "source": [
    "#Create and Analyze Cross table for categorical variables\n",
    "for col in dataset.columns:\n",
    "    if str(dataset[col].dtype) in [\"str\", \"object\"]:\n",
    "        print(f'{col}:\\n      {dataset[col].unique()}')"
   ]
  },
  {
   "cell_type": "code",
   "execution_count": 11,
   "metadata": {},
   "outputs": [],
   "source": [
    "# Defining 0(ORIG_STATE, ORIG_MA, MODE), 00(SCTG) , 104(ORIG_MA,DEST_MA) and 99(SCTG) as Missing for ORIG_STATE, \n",
    "# ORIG_MA, DEST_MA, SCTG, MODE. \n",
    "\n",
    "def definingNA(x):\n",
    "    if (x in ('0','00','99','104')):\n",
    "        x = \"\"\n",
    "    else:\n",
    "        return x\n",
    "\n",
    "#Defining supressed values '0','00','99' as Missing. \n",
    "dataset['ORIG_STATE']=dataset['ORIG_STATE'].apply(definingNA)\n",
    "dataset['ORIG_MA']=dataset['ORIG_MA'].apply(definingNA)\n",
    "dataset['DEST_MA']=dataset['DEST_MA'].apply(definingNA)\n",
    "dataset['SCTG']=dataset['SCTG'].apply(definingNA)\n",
    "dataset['MODE']=dataset['MODE'].apply(definingNA)"
   ]
  },
  {
   "cell_type": "code",
   "execution_count": 12,
   "metadata": {},
   "outputs": [
    {
     "name": "stdout",
     "output_type": "stream",
     "text": [
      "Count of missing values in Categorical Variables\n",
      "ORIG_STATE         26\n",
      "ORIG_MA         28917\n",
      "DEST_STATE          0\n",
      "DEST_MA         18052\n",
      "QUARTER             0\n",
      "SCTG              569\n",
      "MODE              555\n",
      "TEMP_CNTL_YN        0\n",
      "HAZMAT              0\n",
      "dtype: int64\n"
     ]
    }
   ],
   "source": [
    "# Number of missing/invalid values in categorical data\n",
    "print(\"Count of missing values in Categorical Variables\")\n",
    "print(dataset[['ORIG_STATE', 'ORIG_MA', 'DEST_STATE', 'DEST_MA', 'QUARTER', 'SCTG',\n",
    "       'MODE', 'TEMP_CNTL_YN', 'HAZMAT']].isna().sum())"
   ]
  },
  {
   "cell_type": "code",
   "execution_count": 13,
   "metadata": {},
   "outputs": [
    {
     "name": "stdout",
     "output_type": "stream",
     "text": [
      "Count of missing values in Categorical Variables\n",
      "ORIG_STATE      0\n",
      "ORIG_MA         0\n",
      "DEST_STATE      0\n",
      "DEST_MA         0\n",
      "QUARTER         0\n",
      "SCTG            0\n",
      "MODE            0\n",
      "TEMP_CNTL_YN    0\n",
      "HAZMAT          0\n",
      "dtype: int64\n"
     ]
    }
   ],
   "source": [
    "# less than 1% of data is missing, we can drop all rows with missing values\n",
    "dataset.dropna(inplace=True)\n",
    "\n",
    "# Verify Number of missing values in categorical data to be zero\n",
    "print(\"Count of missing values in Categorical Variables\")\n",
    "print(dataset[['ORIG_STATE', 'ORIG_MA', 'DEST_STATE', 'DEST_MA', 'QUARTER', 'SCTG',\n",
    "       'MODE', 'TEMP_CNTL_YN', 'HAZMAT']].isna().sum())"
   ]
  },
  {
   "cell_type": "code",
   "execution_count": 14,
   "metadata": {},
   "outputs": [],
   "source": [
    "# As SCTG contains inconsistent data, hence imputing industries name into new variable SCTG_Group\n",
    "# converting SCTG codes to INDUSTRIES, refering STATS CAN website\n",
    "# https://www150.statcan.gc.ca/n1/pub/50-503-x/50-503-x2018001-eng.htm\n",
    "\n",
    "def SCTG_IND(SCTG):\n",
    "    if SCTG in ('01', '01-05', '02', '03', '04', '05'):\n",
    "        return 'AGRI'\n",
    "    elif SCTG in ('06', '06-09', '07','08', '09'):\n",
    "        return 'FOOD'\n",
    "    elif SCTG in ('10', '10-14', '11', '12', '13', '14'): \n",
    "        return 'MNRLS'\n",
    "    elif SCTG in ('15', '15-19','17', '18', '19'):\n",
    "        return 'FUEL'\n",
    "    elif SCTG in ('20', '20-24', '21', '22', '23', '24'):\n",
    "        return 'PLCHM'\n",
    "    elif SCTG in ('25','25-30', '26', '27', '28', '29'):\n",
    "        return 'FRPAP'\n",
    "    elif SCTG in ('31', '31-34', '32', '33'):\n",
    "        return 'BMETL'\n",
    "    elif SCTG in ('35-38', '36', '37', '38'):\n",
    "        return 'TRANS'\n",
    "    elif SCTG =='41':\n",
    "        return 'WASTE'\n",
    "    elif SCTG in ('30','34','35','39','39-99'):\n",
    "        return 'OTHMF'\n",
    "    elif SCTG in ('40','43'):\n",
    "        return 'MISC'"
   ]
  },
  {
   "cell_type": "code",
   "execution_count": 15,
   "metadata": {},
   "outputs": [],
   "source": [
    "# converting SCTG codes to INDUSTRIES, refering STATS CAN website\n",
    "dataset['SCTG_GROUP'] = dataset['SCTG'].apply(SCTG_IND)"
   ]
  },
  {
   "cell_type": "code",
   "execution_count": 16,
   "metadata": {},
   "outputs": [
    {
     "data": {
      "text/plain": [
       "array(['OTHMF', 'FRPAP', 'BMETL', 'MISC', 'PLCHM', 'AGRI', 'TRANS',\n",
       "       'FUEL', 'MNRLS', 'FOOD', 'WASTE'], dtype=object)"
      ]
     },
     "execution_count": 16,
     "metadata": {},
     "output_type": "execute_result"
    }
   ],
   "source": [
    "# Analyze unique values from SCTG_GROUP\n",
    "dataset['SCTG_GROUP'].unique()"
   ]
  },
  {
   "cell_type": "code",
   "execution_count": 17,
   "metadata": {},
   "outputs": [
    {
     "data": {
      "text/plain": [
       "array(['OTHMF', 'FRPAP', 'BMETL', 'PLCHM', 'AGRI', 'TRANS', 'FUEL',\n",
       "       'MNRLS', 'FOOD', 'WASTE'], dtype=object)"
      ]
     },
     "execution_count": 17,
     "metadata": {},
     "output_type": "execute_result"
    }
   ],
   "source": [
    "# dropping SCTG=='MISC' due to inconsistency in data, 'miscellaneous' SCTG values will affect the SHIPMENT VALUES and WEIGHT \n",
    "dataset = dataset[dataset['SCTG_GROUP'] != 'MISC']\n",
    "\n",
    "dataset['SCTG_GROUP'].unique()"
   ]
  },
  {
   "cell_type": "code",
   "execution_count": 18,
   "metadata": {},
   "outputs": [],
   "source": [
    "dataset.drop(['SCTG'], axis=1, inplace = True)"
   ]
  },
  {
   "cell_type": "code",
   "execution_count": 19,
   "metadata": {},
   "outputs": [],
   "source": [
    "dataset=dataset[(dataset['SCTG_GROUP']=='AGRI') | (dataset['SCTG_GROUP']=='FOOD') | \n",
    "        (dataset['SCTG_GROUP']=='FUEL') | (dataset['SCTG_GROUP']=='PLCHM')]"
   ]
  },
  {
   "cell_type": "markdown",
   "metadata": {},
   "source": [
    "# Preprocessing for Quantitative Variables"
   ]
  },
  {
   "cell_type": "code",
   "execution_count": 20,
   "metadata": {},
   "outputs": [
    {
     "name": "stdout",
     "output_type": "stream",
     "text": [
      "Mean                           >>> 21177.02900481638\n",
      "Median                         >>> 1419.0\n",
      "Mode                           >>> 0    32\n",
      "dtype: int64\n",
      "Standard Deviation             >>> 364518.1525370857\n",
      "Maxiumn                        >>> 58737900\n",
      "Minimum                        >>> 1\n",
      "Skewness                       >>> 75.8993371095692\n"
     ]
    },
    {
     "data": {
      "image/png": "[encoded data removed]",
      "text/plain": [
       "<Figure size 432x288 with 1 Axes>"
      ]
     },
     "metadata": {
      "needs_background": "light"
     },
     "output_type": "display_data"
    },
    {
     "data": {
      "text/plain": [
       "<matplotlib.axes._subplots.AxesSubplot at 0x2503c1dcf48>"
      ]
     },
     "execution_count": 20,
     "metadata": {},
     "output_type": "execute_result"
    },
    {
     "data": {
      "image/png": "[encoded data removed]",
      "text/plain": [
       "<Figure size 432x288 with 1 Axes>"
      ]
     },
     "metadata": {
      "needs_background": "light"
     },
     "output_type": "display_data"
    }
   ],
   "source": [
    "# Check statistics for SHIPMT_VALUE\n",
    "# Analyze SHIPMT_VALUE for distribution, Outliers and Skewness\n",
    "dataset[\"SHIPMT_VALUE\"] = dataset[\"SHIPMT_VALUE\"]\n",
    "\n",
    "# Statistics for SHIPMT_VALUE\n",
    "print(f'{\"Mean\":30s} >>> {dataset[\"SHIPMT_VALUE\"].mean()}')\n",
    "print(f'{\"Median\":30s} >>> {dataset[\"SHIPMT_VALUE\"].median()}')\n",
    "print(f'{\"Mode\":30s} >>> {dataset[\"SHIPMT_VALUE\"].mode()}')\n",
    "print(f'{\"Standard Deviation\":30s} >>> {dataset[\"SHIPMT_VALUE\"].std()}')\n",
    "print(f'{\"Maxiumn\":30s} >>> {dataset[\"SHIPMT_VALUE\"].max()}')\n",
    "print(f'{\"Minimum\":30s} >>> {dataset[\"SHIPMT_VALUE\"].min()}')\n",
    "print(f'{\"Skewness\":30s} >>> {dataset[\"SHIPMT_VALUE\"].skew()}')\n",
    "\n",
    "# Check for distribution\n",
    "dataset[\"SHIPMT_VALUE\"].hist(bins=100, grid=False, xlabelsize=12, ylabelsize=12)\n",
    "plt.xlabel(\"Life Expectancy\", fontsize=15)\n",
    "plt.ylabel(\"Frequency\",fontsize=15)\n",
    "sns.distplot(dataset[\"SHIPMT_VALUE\"])\n",
    "plt.show()\n",
    "\n",
    "# Check for outliers\n",
    "sns.boxplot(x=dataset[\"SHIPMT_VALUE\"])"
   ]
  },
  {
   "cell_type": "code",
   "execution_count": 21,
   "metadata": {},
   "outputs": [],
   "source": [
    "# As the data is highly skewed, team decided to remove outliers\n",
    "dataset = dataset[(dataset['SHIPMT_VALUE']>100) & (dataset['SHIPMT_VALUE']<1000000)]"
   ]
  },
  {
   "cell_type": "code",
   "execution_count": 22,
   "metadata": {},
   "outputs": [
    {
     "name": "stdout",
     "output_type": "stream",
     "text": [
      "Mean                           >>> 66480.41222651622\n",
      "Median                         >>> 1842.0\n",
      "Mode                           >>> 0    1\n",
      "dtype: int64\n",
      "Standard Deviation             >>> 1210623.9292764526\n",
      "Maxiumn                        >>> 277029600\n",
      "Minimum                        >>> 1\n",
      "Skewness                       >>> 48.49553346960931\n"
     ]
    },
    {
     "data": {
      "image/png": "[encoded data removed]",
      "text/plain": [
       "<Figure size 432x288 with 1 Axes>"
      ]
     },
     "metadata": {
      "needs_background": "light"
     },
     "output_type": "display_data"
    },
    {
     "data": {
      "text/plain": [
       "<matplotlib.axes._subplots.AxesSubplot at 0x2503c16d5c8>"
      ]
     },
     "execution_count": 22,
     "metadata": {},
     "output_type": "execute_result"
    },
    {
     "data": {
      "image/png": "[encoded data removed]",
      "text/plain": [
       "<Figure size 432x288 with 1 Axes>"
      ]
     },
     "metadata": {
      "needs_background": "light"
     },
     "output_type": "display_data"
    }
   ],
   "source": [
    "# Analyze shipment weight\n",
    "dataset[\"SHIPMT_WGHT\"] = dataset[\"SHIPMT_WGHT\"]\n",
    "\n",
    "# Statistics for SHIPMT_WGHT\n",
    "print(f'{\"Mean\":30s} >>> {dataset[\"SHIPMT_WGHT\"].mean()}')\n",
    "print(f'{\"Median\":30s} >>> {dataset[\"SHIPMT_WGHT\"].median()}')\n",
    "print(f'{\"Mode\":30s} >>> {dataset[\"SHIPMT_WGHT\"].mode()}')\n",
    "print(f'{\"Standard Deviation\":30s} >>> {dataset[\"SHIPMT_WGHT\"].std()}')\n",
    "print(f'{\"Maxiumn\":30s} >>> {dataset[\"SHIPMT_WGHT\"].max()}')\n",
    "print(f'{\"Minimum\":30s} >>> {dataset[\"SHIPMT_WGHT\"].min()}')\n",
    "print(f'{\"Skewness\":30s} >>> {dataset[\"SHIPMT_WGHT\"].skew()}')\n",
    "\n",
    "# Check for distribution\n",
    "dataset[\"SHIPMT_WGHT\"].hist(bins=100, grid=False, xlabelsize=12, ylabelsize=12)\n",
    "plt.xlabel(\"Life Expectancy\", fontsize=15)\n",
    "plt.ylabel(\"Frequency\",fontsize=15)\n",
    "sns.distplot(dataset[\"SHIPMT_WGHT\"])\n",
    "plt.show()\n",
    "\n",
    "# Check for outliers\n",
    "sns.boxplot(x=dataset[\"SHIPMT_WGHT\"])"
   ]
  },
  {
   "cell_type": "code",
   "execution_count": 23,
   "metadata": {},
   "outputs": [
    {
     "name": "stdout",
     "output_type": "stream",
     "text": [
      "Mean                           >>> 278.5806245236332\n",
      "Median                         >>> 56.0\n",
      "Mode                           >>> 0    3\n",
      "dtype: int64\n",
      "Standard Deviation             >>> 478.71562670077657\n",
      "Maxiumn                        >>> 5153\n",
      "Minimum                        >>> 1\n",
      "Skewness                       >>> 2.702101649746842\n"
     ]
    },
    {
     "data": {
      "image/png": "[encoded data removed]",
      "text/plain": [
       "<Figure size 432x288 with 1 Axes>"
      ]
     },
     "metadata": {
      "needs_background": "light"
     },
     "output_type": "display_data"
    },
    {
     "data": {
      "text/plain": [
       "<matplotlib.axes._subplots.AxesSubplot at 0x24fefd3d048>"
      ]
     },
     "execution_count": 23,
     "metadata": {},
     "output_type": "execute_result"
    },
    {
     "data": {
      "image/png": "[encoded data removed]",
      "text/plain": [
       "<Figure size 432x288 with 1 Axes>"
      ]
     },
     "metadata": {
      "needs_background": "light"
     },
     "output_type": "display_data"
    }
   ],
   "source": [
    "# Analyze Shipmen Dist gc\n",
    "dataset[\"SHIPMT_DIST_GC\"] = dataset[\"SHIPMT_DIST_GC\"]\n",
    "\n",
    "# Statistics for SHIPMT_DIST_GC\n",
    "print(f'{\"Mean\":30s} >>> {dataset[\"SHIPMT_DIST_GC\"].mean()}')\n",
    "print(f'{\"Median\":30s} >>> {dataset[\"SHIPMT_DIST_GC\"].median()}')\n",
    "print(f'{\"Mode\":30s} >>> {dataset[\"SHIPMT_DIST_GC\"].mode()}')\n",
    "print(f'{\"Standard Deviation\":30s} >>> {dataset[\"SHIPMT_DIST_GC\"].std()}')\n",
    "print(f'{\"Maxiumn\":30s} >>> {dataset[\"SHIPMT_DIST_GC\"].max()}')\n",
    "print(f'{\"Minimum\":30s} >>> {dataset[\"SHIPMT_DIST_GC\"].min()}')\n",
    "print(f'{\"Skewness\":30s} >>> {dataset[\"SHIPMT_DIST_GC\"].skew()}')\n",
    "\n",
    "# Check for distribution\n",
    "dataset[\"SHIPMT_DIST_GC\"].hist(bins=100, grid=False, xlabelsize=12, ylabelsize=12)\n",
    "plt.xlabel(\"Life Expectancy\", fontsize=15)\n",
    "plt.ylabel(\"Frequency\",fontsize=15)\n",
    "sns.distplot(dataset[\"SHIPMT_DIST_GC\"])\n",
    "plt.show()\n",
    "\n",
    "# Check for outliers\n",
    "sns.boxplot(x=dataset[\"SHIPMT_DIST_GC\"])"
   ]
  },
  {
   "cell_type": "code",
   "execution_count": 24,
   "metadata": {},
   "outputs": [
    {
     "name": "stdout",
     "output_type": "stream",
     "text": [
      "Mean                           >>> 340.07432285696797\n",
      "Median                         >>> 70.0\n",
      "Mode                           >>> 0    4\n",
      "dtype: int64\n",
      "Standard Deviation             >>> 573.061542033498\n",
      "Maxiumn                        >>> 5596\n",
      "Minimum                        >>> 1\n",
      "Skewness                       >>> 2.5458867251789377\n"
     ]
    },
    {
     "data": {
      "image/png": "[encoded data removed]",
      "text/plain": [
       "<Figure size 432x288 with 1 Axes>"
      ]
     },
     "metadata": {
      "needs_background": "light"
     },
     "output_type": "display_data"
    },
    {
     "data": {
      "text/plain": [
       "<matplotlib.axes._subplots.AxesSubplot at 0x2503c0c15c8>"
      ]
     },
     "execution_count": 24,
     "metadata": {},
     "output_type": "execute_result"
    },
    {
     "data": {
      "image/png": "[encoded data removed]",
      "text/plain": [
       "<Figure size 432x288 with 1 Axes>"
      ]
     },
     "metadata": {
      "needs_background": "light"
     },
     "output_type": "display_data"
    }
   ],
   "source": [
    "# Analyze Shipment dist routed\n",
    "dataset[\"SHIPMT_DIST_ROUTED\"] = dataset[\"SHIPMT_DIST_ROUTED\"]\n",
    "\n",
    "# Statistics for SHIPMT_DIST_ROUTED\n",
    "print(f'{\"Mean\":30s} >>> {dataset[\"SHIPMT_DIST_ROUTED\"].mean()}')\n",
    "print(f'{\"Median\":30s} >>> {dataset[\"SHIPMT_DIST_ROUTED\"].median()}')\n",
    "print(f'{\"Mode\":30s} >>> {dataset[\"SHIPMT_DIST_ROUTED\"].mode()}')\n",
    "print(f'{\"Standard Deviation\":30s} >>> {dataset[\"SHIPMT_DIST_ROUTED\"].std()}')\n",
    "print(f'{\"Maxiumn\":30s} >>> {dataset[\"SHIPMT_DIST_ROUTED\"].max()}')\n",
    "print(f'{\"Minimum\":30s} >>> {dataset[\"SHIPMT_DIST_ROUTED\"].min()}')\n",
    "print(f'{\"Skewness\":30s} >>> {dataset[\"SHIPMT_DIST_ROUTED\"].skew()}')\n",
    "\n",
    "# Check for distribution\n",
    "dataset[\"SHIPMT_DIST_ROUTED\"].hist(bins=100, grid=False, xlabelsize=12, ylabelsize=12)\n",
    "plt.xlabel(\"Life Expectancy\", fontsize=15)\n",
    "plt.ylabel(\"Frequency\",fontsize=15)\n",
    "sns.distplot(dataset[\"SHIPMT_DIST_ROUTED\"])\n",
    "plt.show()\n",
    "\n",
    "# Check for outliers\n",
    "sns.boxplot(x=dataset[\"SHIPMT_DIST_ROUTED\"])"
   ]
  },
  {
   "cell_type": "code",
   "execution_count": 25,
   "metadata": {},
   "outputs": [
    {
     "name": "stdout",
     "output_type": "stream",
     "text": [
      "Mean                           >>> 1187.6517069546658\n",
      "Median                         >>> 245.4\n",
      "Mode                           >>> 0    17.6\n",
      "dtype: float64\n",
      "Standard Deviation             >>> 8207.183530192078\n",
      "Maxiumn                        >>> 975000.0\n",
      "Minimum                        >>> 0.6\n",
      "Skewness                       >>> 69.15215222060169\n"
     ]
    },
    {
     "data": {
      "image/png": "[encoded data removed]",
      "text/plain": [
       "<Figure size 432x288 with 1 Axes>"
      ]
     },
     "metadata": {
      "needs_background": "light"
     },
     "output_type": "display_data"
    },
    {
     "data": {
      "text/plain": [
       "<matplotlib.axes._subplots.AxesSubplot at 0x2503c020d48>"
      ]
     },
     "execution_count": 25,
     "metadata": {},
     "output_type": "execute_result"
    },
    {
     "data": {
      "image/png": "[encoded data removed]",
      "text/plain": [
       "<Figure size 432x288 with 1 Axes>"
      ]
     },
     "metadata": {
      "needs_background": "light"
     },
     "output_type": "display_data"
    }
   ],
   "source": [
    "# Analyze Weight Factor\n",
    "dataset[\"WGT_FACTOR\"] = dataset[\"WGT_FACTOR\"]\n",
    "\n",
    "# Statistics for WGT_FACTOR\n",
    "print(f'{\"Mean\":30s} >>> {dataset[\"WGT_FACTOR\"].mean()}')\n",
    "print(f'{\"Median\":30s} >>> {dataset[\"WGT_FACTOR\"].median()}')\n",
    "print(f'{\"Mode\":30s} >>> {dataset[\"WGT_FACTOR\"].mode()}')\n",
    "print(f'{\"Standard Deviation\":30s} >>> {dataset[\"WGT_FACTOR\"].std()}')\n",
    "print(f'{\"Maxiumn\":30s} >>> {dataset[\"WGT_FACTOR\"].max()}')\n",
    "print(f'{\"Minimum\":30s} >>> {dataset[\"WGT_FACTOR\"].min()}')\n",
    "print(f'{\"Skewness\":30s} >>> {dataset[\"WGT_FACTOR\"].skew()}')\n",
    "\n",
    "# Check for distribution\n",
    "dataset[\"WGT_FACTOR\"].hist(bins=100, grid=False, xlabelsize=12, ylabelsize=12)\n",
    "plt.xlabel(\"Life Expectancy\", fontsize=15)\n",
    "plt.ylabel(\"Frequency\",fontsize=15)\n",
    "sns.distplot(dataset[\"WGT_FACTOR\"])\n",
    "plt.show()\n",
    "\n",
    "# Check for outliers\n",
    "sns.boxplot(x=dataset[\"WGT_FACTOR\"])"
   ]
  },
  {
   "cell_type": "code",
   "execution_count": 26,
   "metadata": {},
   "outputs": [
    {
     "data": {
      "text/plain": [
       "1192621"
      ]
     },
     "execution_count": 26,
     "metadata": {},
     "output_type": "execute_result"
    }
   ],
   "source": [
    "dataset.WGT_FACTOR.count()"
   ]
  },
  {
   "cell_type": "code",
   "execution_count": 27,
   "metadata": {},
   "outputs": [
    {
     "data": {
      "text/plain": [
       "(1192621, 14)"
      ]
     },
     "execution_count": 27,
     "metadata": {},
     "output_type": "execute_result"
    }
   ],
   "source": [
    "dataset.shape"
   ]
  },
  {
   "cell_type": "code",
   "execution_count": 28,
   "metadata": {},
   "outputs": [
    {
     "data": {
      "text/plain": [
       "'First 10 observations'"
      ]
     },
     "metadata": {},
     "output_type": "display_data"
    },
    {
     "data": {
      "text/html": [
       "<div>\n",
       "<style scoped>\n",
       "    .dataframe tbody tr th:only-of-type {\n",
       "        vertical-align: middle;\n",
       "    }\n",
       "\n",
       "    .dataframe tbody tr th {\n",
       "        vertical-align: top;\n",
       "    }\n",
       "\n",
       "    .dataframe thead th {\n",
       "        text-align: right;\n",
       "    }\n",
       "</style>\n",
       "<table border=\"1\" class=\"dataframe\">\n",
       "  <thead>\n",
       "    <tr style=\"text-align: right;\">\n",
       "      <th></th>\n",
       "      <th>ORIG_STATE</th>\n",
       "      <th>ORIG_MA</th>\n",
       "      <th>DEST_STATE</th>\n",
       "      <th>DEST_MA</th>\n",
       "      <th>QUARTER</th>\n",
       "      <th>MODE</th>\n",
       "      <th>SHIPMT_VALUE</th>\n",
       "      <th>SHIPMT_WGHT</th>\n",
       "      <th>SHIPMT_DIST_GC</th>\n",
       "      <th>SHIPMT_DIST_ROUTED</th>\n",
       "      <th>TEMP_CNTL_YN</th>\n",
       "      <th>HAZMAT</th>\n",
       "      <th>WGT_FACTOR</th>\n",
       "      <th>SCTG_GROUP</th>\n",
       "    </tr>\n",
       "    <tr>\n",
       "      <th>SHIPMT_ID</th>\n",
       "      <th></th>\n",
       "      <th></th>\n",
       "      <th></th>\n",
       "      <th></th>\n",
       "      <th></th>\n",
       "      <th></th>\n",
       "      <th></th>\n",
       "      <th></th>\n",
       "      <th></th>\n",
       "      <th></th>\n",
       "      <th></th>\n",
       "      <th></th>\n",
       "      <th></th>\n",
       "      <th></th>\n",
       "    </tr>\n",
       "  </thead>\n",
       "  <tbody>\n",
       "    <tr>\n",
       "      <th>12</th>\n",
       "      <td>39</td>\n",
       "      <td>184</td>\n",
       "      <td>42</td>\n",
       "      <td>99999</td>\n",
       "      <td>2</td>\n",
       "      <td>4</td>\n",
       "      <td>7543</td>\n",
       "      <td>3960</td>\n",
       "      <td>105</td>\n",
       "      <td>143</td>\n",
       "      <td>N</td>\n",
       "      <td>N</td>\n",
       "      <td>77.2</td>\n",
       "      <td>PLCHM</td>\n",
       "    </tr>\n",
       "    <tr>\n",
       "      <th>13</th>\n",
       "      <td>33</td>\n",
       "      <td>148</td>\n",
       "      <td>34</td>\n",
       "      <td>408</td>\n",
       "      <td>1</td>\n",
       "      <td>14</td>\n",
       "      <td>1159</td>\n",
       "      <td>3</td>\n",
       "      <td>218</td>\n",
       "      <td>241</td>\n",
       "      <td>N</td>\n",
       "      <td>N</td>\n",
       "      <td>570.2</td>\n",
       "      <td>PLCHM</td>\n",
       "    </tr>\n",
       "    <tr>\n",
       "      <th>14</th>\n",
       "      <td>31</td>\n",
       "      <td>99999</td>\n",
       "      <td>31</td>\n",
       "      <td>99999</td>\n",
       "      <td>1</td>\n",
       "      <td>4</td>\n",
       "      <td>1422</td>\n",
       "      <td>49037</td>\n",
       "      <td>14</td>\n",
       "      <td>14</td>\n",
       "      <td>N</td>\n",
       "      <td>N</td>\n",
       "      <td>535.2</td>\n",
       "      <td>AGRI</td>\n",
       "    </tr>\n",
       "    <tr>\n",
       "      <th>21</th>\n",
       "      <td>54</td>\n",
       "      <td>99999</td>\n",
       "      <td>39</td>\n",
       "      <td>184</td>\n",
       "      <td>2</td>\n",
       "      <td>4</td>\n",
       "      <td>2534</td>\n",
       "      <td>3223</td>\n",
       "      <td>217</td>\n",
       "      <td>262</td>\n",
       "      <td>N</td>\n",
       "      <td>N</td>\n",
       "      <td>70.0</td>\n",
       "      <td>PLCHM</td>\n",
       "    </tr>\n",
       "    <tr>\n",
       "      <th>25</th>\n",
       "      <td>48</td>\n",
       "      <td>99999</td>\n",
       "      <td>48</td>\n",
       "      <td>99999</td>\n",
       "      <td>1</td>\n",
       "      <td>4</td>\n",
       "      <td>26498</td>\n",
       "      <td>33269</td>\n",
       "      <td>156</td>\n",
       "      <td>219</td>\n",
       "      <td>Y</td>\n",
       "      <td>N</td>\n",
       "      <td>114.3</td>\n",
       "      <td>AGRI</td>\n",
       "    </tr>\n",
       "    <tr>\n",
       "      <th>33</th>\n",
       "      <td>13</td>\n",
       "      <td>122</td>\n",
       "      <td>13</td>\n",
       "      <td>122</td>\n",
       "      <td>2</td>\n",
       "      <td>5</td>\n",
       "      <td>539</td>\n",
       "      <td>1026</td>\n",
       "      <td>60</td>\n",
       "      <td>73</td>\n",
       "      <td>Y</td>\n",
       "      <td>N</td>\n",
       "      <td>747.4</td>\n",
       "      <td>AGRI</td>\n",
       "    </tr>\n",
       "    <tr>\n",
       "      <th>34</th>\n",
       "      <td>42</td>\n",
       "      <td>99999</td>\n",
       "      <td>44</td>\n",
       "      <td>148</td>\n",
       "      <td>4</td>\n",
       "      <td>4</td>\n",
       "      <td>15422</td>\n",
       "      <td>9947</td>\n",
       "      <td>320</td>\n",
       "      <td>376</td>\n",
       "      <td>N</td>\n",
       "      <td>N</td>\n",
       "      <td>96.1</td>\n",
       "      <td>PLCHM</td>\n",
       "    </tr>\n",
       "    <tr>\n",
       "      <th>35</th>\n",
       "      <td>18</td>\n",
       "      <td>176</td>\n",
       "      <td>18</td>\n",
       "      <td>176</td>\n",
       "      <td>1</td>\n",
       "      <td>5</td>\n",
       "      <td>248</td>\n",
       "      <td>473</td>\n",
       "      <td>8</td>\n",
       "      <td>8</td>\n",
       "      <td>N</td>\n",
       "      <td>H</td>\n",
       "      <td>183.1</td>\n",
       "      <td>FUEL</td>\n",
       "    </tr>\n",
       "    <tr>\n",
       "      <th>40</th>\n",
       "      <td>18</td>\n",
       "      <td>176</td>\n",
       "      <td>18</td>\n",
       "      <td>176</td>\n",
       "      <td>1</td>\n",
       "      <td>5</td>\n",
       "      <td>635</td>\n",
       "      <td>1159</td>\n",
       "      <td>27</td>\n",
       "      <td>30</td>\n",
       "      <td>N</td>\n",
       "      <td>H</td>\n",
       "      <td>146.2</td>\n",
       "      <td>FUEL</td>\n",
       "    </tr>\n",
       "    <tr>\n",
       "      <th>41</th>\n",
       "      <td>17</td>\n",
       "      <td>176</td>\n",
       "      <td>51</td>\n",
       "      <td>545</td>\n",
       "      <td>1</td>\n",
       "      <td>14</td>\n",
       "      <td>153</td>\n",
       "      <td>41</td>\n",
       "      <td>700</td>\n",
       "      <td>882</td>\n",
       "      <td>N</td>\n",
       "      <td>N</td>\n",
       "      <td>279.1</td>\n",
       "      <td>PLCHM</td>\n",
       "    </tr>\n",
       "  </tbody>\n",
       "</table>\n",
       "</div>"
      ],
      "text/plain": [
       "          ORIG_STATE ORIG_MA DEST_STATE DEST_MA QUARTER MODE  SHIPMT_VALUE  \\\n",
       "SHIPMT_ID                                                                    \n",
       "12                39     184         42   99999       2    4          7543   \n",
       "13                33     148         34     408       1   14          1159   \n",
       "14                31   99999         31   99999       1    4          1422   \n",
       "21                54   99999         39     184       2    4          2534   \n",
       "25                48   99999         48   99999       1    4         26498   \n",
       "33                13     122         13     122       2    5           539   \n",
       "34                42   99999         44     148       4    4         15422   \n",
       "35                18     176         18     176       1    5           248   \n",
       "40                18     176         18     176       1    5           635   \n",
       "41                17     176         51     545       1   14           153   \n",
       "\n",
       "           SHIPMT_WGHT  SHIPMT_DIST_GC  SHIPMT_DIST_ROUTED TEMP_CNTL_YN  \\\n",
       "SHIPMT_ID                                                                 \n",
       "12                3960             105                 143            N   \n",
       "13                   3             218                 241            N   \n",
       "14               49037              14                  14            N   \n",
       "21                3223             217                 262            N   \n",
       "25               33269             156                 219            Y   \n",
       "33                1026              60                  73            Y   \n",
       "34                9947             320                 376            N   \n",
       "35                 473               8                   8            N   \n",
       "40                1159              27                  30            N   \n",
       "41                  41             700                 882            N   \n",
       "\n",
       "          HAZMAT  WGT_FACTOR SCTG_GROUP  \n",
       "SHIPMT_ID                                \n",
       "12             N        77.2      PLCHM  \n",
       "13             N       570.2      PLCHM  \n",
       "14             N       535.2       AGRI  \n",
       "21             N        70.0      PLCHM  \n",
       "25             N       114.3       AGRI  \n",
       "33             N       747.4       AGRI  \n",
       "34             N        96.1      PLCHM  \n",
       "35             H       183.1       FUEL  \n",
       "40             H       146.2       FUEL  \n",
       "41             N       279.1      PLCHM  "
      ]
     },
     "metadata": {},
     "output_type": "display_data"
    },
    {
     "data": {
      "text/plain": [
       "'Last 10 observations'"
      ]
     },
     "metadata": {},
     "output_type": "display_data"
    },
    {
     "data": {
      "text/html": [
       "<div>\n",
       "<style scoped>\n",
       "    .dataframe tbody tr th:only-of-type {\n",
       "        vertical-align: middle;\n",
       "    }\n",
       "\n",
       "    .dataframe tbody tr th {\n",
       "        vertical-align: top;\n",
       "    }\n",
       "\n",
       "    .dataframe thead th {\n",
       "        text-align: right;\n",
       "    }\n",
       "</style>\n",
       "<table border=\"1\" class=\"dataframe\">\n",
       "  <thead>\n",
       "    <tr style=\"text-align: right;\">\n",
       "      <th></th>\n",
       "      <th>ORIG_STATE</th>\n",
       "      <th>ORIG_MA</th>\n",
       "      <th>DEST_STATE</th>\n",
       "      <th>DEST_MA</th>\n",
       "      <th>QUARTER</th>\n",
       "      <th>MODE</th>\n",
       "      <th>SHIPMT_VALUE</th>\n",
       "      <th>SHIPMT_WGHT</th>\n",
       "      <th>SHIPMT_DIST_GC</th>\n",
       "      <th>SHIPMT_DIST_ROUTED</th>\n",
       "      <th>TEMP_CNTL_YN</th>\n",
       "      <th>HAZMAT</th>\n",
       "      <th>WGT_FACTOR</th>\n",
       "      <th>SCTG_GROUP</th>\n",
       "    </tr>\n",
       "    <tr>\n",
       "      <th>SHIPMT_ID</th>\n",
       "      <th></th>\n",
       "      <th></th>\n",
       "      <th></th>\n",
       "      <th></th>\n",
       "      <th></th>\n",
       "      <th></th>\n",
       "      <th></th>\n",
       "      <th></th>\n",
       "      <th></th>\n",
       "      <th></th>\n",
       "      <th></th>\n",
       "      <th></th>\n",
       "      <th></th>\n",
       "      <th></th>\n",
       "    </tr>\n",
       "  </thead>\n",
       "  <tbody>\n",
       "    <tr>\n",
       "      <th>4547621</th>\n",
       "      <td>42</td>\n",
       "      <td>428</td>\n",
       "      <td>51</td>\n",
       "      <td>545</td>\n",
       "      <td>1</td>\n",
       "      <td>14</td>\n",
       "      <td>3664</td>\n",
       "      <td>95</td>\n",
       "      <td>231</td>\n",
       "      <td>339</td>\n",
       "      <td>N</td>\n",
       "      <td>N</td>\n",
       "      <td>661.4</td>\n",
       "      <td>PLCHM</td>\n",
       "    </tr>\n",
       "    <tr>\n",
       "      <th>4547623</th>\n",
       "      <td>34</td>\n",
       "      <td>408</td>\n",
       "      <td>46</td>\n",
       "      <td>99999</td>\n",
       "      <td>2</td>\n",
       "      <td>14</td>\n",
       "      <td>1425</td>\n",
       "      <td>56</td>\n",
       "      <td>1485</td>\n",
       "      <td>1698</td>\n",
       "      <td>N</td>\n",
       "      <td>N</td>\n",
       "      <td>511.5</td>\n",
       "      <td>PLCHM</td>\n",
       "    </tr>\n",
       "    <tr>\n",
       "      <th>4547626</th>\n",
       "      <td>1</td>\n",
       "      <td>380</td>\n",
       "      <td>1</td>\n",
       "      <td>380</td>\n",
       "      <td>4</td>\n",
       "      <td>5</td>\n",
       "      <td>2812</td>\n",
       "      <td>7600</td>\n",
       "      <td>2</td>\n",
       "      <td>3</td>\n",
       "      <td>N</td>\n",
       "      <td>H</td>\n",
       "      <td>510.7</td>\n",
       "      <td>PLCHM</td>\n",
       "    </tr>\n",
       "    <tr>\n",
       "      <th>4547627</th>\n",
       "      <td>39</td>\n",
       "      <td>184</td>\n",
       "      <td>39</td>\n",
       "      <td>184</td>\n",
       "      <td>1</td>\n",
       "      <td>5</td>\n",
       "      <td>236</td>\n",
       "      <td>274</td>\n",
       "      <td>10</td>\n",
       "      <td>12</td>\n",
       "      <td>Y</td>\n",
       "      <td>H</td>\n",
       "      <td>1925.1</td>\n",
       "      <td>FUEL</td>\n",
       "    </tr>\n",
       "    <tr>\n",
       "      <th>4547634</th>\n",
       "      <td>53</td>\n",
       "      <td>99999</td>\n",
       "      <td>53</td>\n",
       "      <td>99999</td>\n",
       "      <td>3</td>\n",
       "      <td>5</td>\n",
       "      <td>765</td>\n",
       "      <td>578</td>\n",
       "      <td>61</td>\n",
       "      <td>76</td>\n",
       "      <td>N</td>\n",
       "      <td>N</td>\n",
       "      <td>113.8</td>\n",
       "      <td>PLCHM</td>\n",
       "    </tr>\n",
       "    <tr>\n",
       "      <th>4547642</th>\n",
       "      <td>23</td>\n",
       "      <td>99999</td>\n",
       "      <td>25</td>\n",
       "      <td>148</td>\n",
       "      <td>2</td>\n",
       "      <td>5</td>\n",
       "      <td>3483</td>\n",
       "      <td>518</td>\n",
       "      <td>56</td>\n",
       "      <td>62</td>\n",
       "      <td>Y</td>\n",
       "      <td>N</td>\n",
       "      <td>100.0</td>\n",
       "      <td>AGRI</td>\n",
       "    </tr>\n",
       "    <tr>\n",
       "      <th>4547651</th>\n",
       "      <td>17</td>\n",
       "      <td>176</td>\n",
       "      <td>17</td>\n",
       "      <td>176</td>\n",
       "      <td>1</td>\n",
       "      <td>4</td>\n",
       "      <td>44169</td>\n",
       "      <td>31500</td>\n",
       "      <td>30</td>\n",
       "      <td>50</td>\n",
       "      <td>N</td>\n",
       "      <td>N</td>\n",
       "      <td>198.8</td>\n",
       "      <td>FOOD</td>\n",
       "    </tr>\n",
       "    <tr>\n",
       "      <th>4547654</th>\n",
       "      <td>19</td>\n",
       "      <td>99999</td>\n",
       "      <td>17</td>\n",
       "      <td>99999</td>\n",
       "      <td>3</td>\n",
       "      <td>5</td>\n",
       "      <td>23587</td>\n",
       "      <td>4718</td>\n",
       "      <td>172</td>\n",
       "      <td>182</td>\n",
       "      <td>N</td>\n",
       "      <td>N</td>\n",
       "      <td>175.3</td>\n",
       "      <td>PLCHM</td>\n",
       "    </tr>\n",
       "    <tr>\n",
       "      <th>4547658</th>\n",
       "      <td>39</td>\n",
       "      <td>178</td>\n",
       "      <td>28</td>\n",
       "      <td>99999</td>\n",
       "      <td>3</td>\n",
       "      <td>4</td>\n",
       "      <td>50808</td>\n",
       "      <td>29887</td>\n",
       "      <td>561</td>\n",
       "      <td>683</td>\n",
       "      <td>Y</td>\n",
       "      <td>N</td>\n",
       "      <td>20.0</td>\n",
       "      <td>AGRI</td>\n",
       "    </tr>\n",
       "    <tr>\n",
       "      <th>4547661</th>\n",
       "      <td>30</td>\n",
       "      <td>99999</td>\n",
       "      <td>30</td>\n",
       "      <td>99999</td>\n",
       "      <td>1</td>\n",
       "      <td>4</td>\n",
       "      <td>22482</td>\n",
       "      <td>75952</td>\n",
       "      <td>12</td>\n",
       "      <td>12</td>\n",
       "      <td>N</td>\n",
       "      <td>N</td>\n",
       "      <td>66.1</td>\n",
       "      <td>PLCHM</td>\n",
       "    </tr>\n",
       "  </tbody>\n",
       "</table>\n",
       "</div>"
      ],
      "text/plain": [
       "          ORIG_STATE ORIG_MA DEST_STATE DEST_MA QUARTER MODE  SHIPMT_VALUE  \\\n",
       "SHIPMT_ID                                                                    \n",
       "4547621           42     428         51     545       1   14          3664   \n",
       "4547623           34     408         46   99999       2   14          1425   \n",
       "4547626            1     380          1     380       4    5          2812   \n",
       "4547627           39     184         39     184       1    5           236   \n",
       "4547634           53   99999         53   99999       3    5           765   \n",
       "4547642           23   99999         25     148       2    5          3483   \n",
       "4547651           17     176         17     176       1    4         44169   \n",
       "4547654           19   99999         17   99999       3    5         23587   \n",
       "4547658           39     178         28   99999       3    4         50808   \n",
       "4547661           30   99999         30   99999       1    4         22482   \n",
       "\n",
       "           SHIPMT_WGHT  SHIPMT_DIST_GC  SHIPMT_DIST_ROUTED TEMP_CNTL_YN  \\\n",
       "SHIPMT_ID                                                                 \n",
       "4547621             95             231                 339            N   \n",
       "4547623             56            1485                1698            N   \n",
       "4547626           7600               2                   3            N   \n",
       "4547627            274              10                  12            Y   \n",
       "4547634            578              61                  76            N   \n",
       "4547642            518              56                  62            Y   \n",
       "4547651          31500              30                  50            N   \n",
       "4547654           4718             172                 182            N   \n",
       "4547658          29887             561                 683            Y   \n",
       "4547661          75952              12                  12            N   \n",
       "\n",
       "          HAZMAT  WGT_FACTOR SCTG_GROUP  \n",
       "SHIPMT_ID                                \n",
       "4547621        N       661.4      PLCHM  \n",
       "4547623        N       511.5      PLCHM  \n",
       "4547626        H       510.7      PLCHM  \n",
       "4547627        H      1925.1       FUEL  \n",
       "4547634        N       113.8      PLCHM  \n",
       "4547642        N       100.0       AGRI  \n",
       "4547651        N       198.8       FOOD  \n",
       "4547654        N       175.3      PLCHM  \n",
       "4547658        N        20.0       AGRI  \n",
       "4547661        N        66.1      PLCHM  "
      ]
     },
     "metadata": {},
     "output_type": "display_data"
    }
   ],
   "source": [
    "# Analyze first and last 10 rows\n",
    "display(\"First 10 observations\", dataset.head(10))\n",
    "display(\"Last 10 observations\", dataset.tail(10))"
   ]
  },
  {
   "cell_type": "markdown",
   "metadata": {},
   "source": [
    "# Correlation and association analysis"
   ]
  },
  {
   "cell_type": "code",
   "execution_count": 62,
   "metadata": {},
   "outputs": [
    {
     "name": "stdout",
     "output_type": "stream",
     "text": [
      "AxesSubplot(0.241667,0.125;0.503333x0.755)\n"
     ]
    },
    {
     "data": {
      "image/png": "[encoded data removed]",
      "text/plain": [
       "<Figure size 432x288 with 2 Axes>"
      ]
     },
     "metadata": {},
     "output_type": "display_data"
    }
   ],
   "source": [
    "# Correlation for Quantative variables\n",
    "# Calculate and show correlation matrix\n",
    "corr = dataset[['SHIPMT_VALUE', 'SHIPMT_WGHT', 'SHIPMT_DIST_GC', 'SHIPMT_DIST_ROUTED', 'WGT_FACTOR']]\n",
    "cm = np.corrcoef(corr.values.T)\n",
    "sns.set(font_scale=1.5)\n",
    "hm = sns.heatmap(cm,\n",
    "                cbar=True,\n",
    "                annot=True,\n",
    "                square=True,\n",
    "                fmt='.2f',\n",
    "                annot_kws={'size': 15},\n",
    "                yticklabels=corr.columns,\n",
    "                xticklabels=corr.columns)\n",
    "\n",
    "print(hm)\n",
    "# Removing the variable to free up the space\n",
    "del corr\n",
    "del cm\n",
    "del hm\n"
   ]
  },
  {
   "cell_type": "code",
   "execution_count": 63,
   "metadata": {},
   "outputs": [
    {
     "data": {
      "text/html": [
       "<div>\n",
       "<style scoped>\n",
       "    .dataframe tbody tr th:only-of-type {\n",
       "        vertical-align: middle;\n",
       "    }\n",
       "\n",
       "    .dataframe tbody tr th {\n",
       "        vertical-align: top;\n",
       "    }\n",
       "\n",
       "    .dataframe thead th {\n",
       "        text-align: right;\n",
       "    }\n",
       "</style>\n",
       "<table border=\"1\" class=\"dataframe\">\n",
       "  <thead>\n",
       "    <tr style=\"text-align: right;\">\n",
       "      <th></th>\n",
       "      <th>SHIPMT_VALUE</th>\n",
       "      <th>SHIPMT_WGHT</th>\n",
       "      <th>SHIPMT_DIST_GC</th>\n",
       "      <th>SHIPMT_DIST_ROUTED</th>\n",
       "      <th>WGT_FACTOR</th>\n",
       "    </tr>\n",
       "  </thead>\n",
       "  <tbody>\n",
       "    <tr>\n",
       "      <th>SHIPMT_VALUE</th>\n",
       "      <td>1.0000</td>\n",
       "      <td>0.3373</td>\n",
       "      <td>0.0851</td>\n",
       "      <td>0.0988</td>\n",
       "      <td>-0.0343</td>\n",
       "    </tr>\n",
       "    <tr>\n",
       "      <th>SHIPMT_WGHT</th>\n",
       "      <td>0.3373</td>\n",
       "      <td>1.0000</td>\n",
       "      <td>0.0223</td>\n",
       "      <td>0.0318</td>\n",
       "      <td>-0.0071</td>\n",
       "    </tr>\n",
       "    <tr>\n",
       "      <th>SHIPMT_DIST_GC</th>\n",
       "      <td>0.0851</td>\n",
       "      <td>0.0223</td>\n",
       "      <td>1.0000</td>\n",
       "      <td>0.9955</td>\n",
       "      <td>-0.0022</td>\n",
       "    </tr>\n",
       "    <tr>\n",
       "      <th>SHIPMT_DIST_ROUTED</th>\n",
       "      <td>0.0988</td>\n",
       "      <td>0.0318</td>\n",
       "      <td>0.9955</td>\n",
       "      <td>1.0000</td>\n",
       "      <td>-0.0038</td>\n",
       "    </tr>\n",
       "    <tr>\n",
       "      <th>WGT_FACTOR</th>\n",
       "      <td>-0.0343</td>\n",
       "      <td>-0.0071</td>\n",
       "      <td>-0.0022</td>\n",
       "      <td>-0.0038</td>\n",
       "      <td>1.0000</td>\n",
       "    </tr>\n",
       "  </tbody>\n",
       "</table>\n",
       "</div>"
      ],
      "text/plain": [
       "                    SHIPMT_VALUE  SHIPMT_WGHT  SHIPMT_DIST_GC  \\\n",
       "SHIPMT_VALUE              1.0000       0.3373          0.0851   \n",
       "SHIPMT_WGHT               0.3373       1.0000          0.0223   \n",
       "SHIPMT_DIST_GC            0.0851       0.0223          1.0000   \n",
       "SHIPMT_DIST_ROUTED        0.0988       0.0318          0.9955   \n",
       "WGT_FACTOR               -0.0343      -0.0071         -0.0022   \n",
       "\n",
       "                    SHIPMT_DIST_ROUTED  WGT_FACTOR  \n",
       "SHIPMT_VALUE                    0.0988     -0.0343  \n",
       "SHIPMT_WGHT                     0.0318     -0.0071  \n",
       "SHIPMT_DIST_GC                  0.9955     -0.0022  \n",
       "SHIPMT_DIST_ROUTED              1.0000     -0.0038  \n",
       "WGT_FACTOR                     -0.0038      1.0000  "
      ]
     },
     "execution_count": 63,
     "metadata": {},
     "output_type": "execute_result"
    }
   ],
   "source": [
    "dataset.corr(method='pearson')"
   ]
  },
  {
   "cell_type": "code",
   "execution_count": 64,
   "metadata": {},
   "outputs": [
    {
     "data": {
      "text/plain": [
       "<matplotlib.axes._subplots.AxesSubplot at 0x2e2353740c8>"
      ]
     },
     "execution_count": 64,
     "metadata": {},
     "output_type": "execute_result"
    },
    {
     "data": {
      "image/png": "[encoded data removed]",
      "text/plain": [
       "<Figure size 720x576 with 2 Axes>"
      ]
     },
     "metadata": {},
     "output_type": "display_data"
    }
   ],
   "source": [
    "plt.subplots(figsize=(10,8))\n",
    "sns.heatmap(dataset.corr())"
   ]
  },
  {
   "cell_type": "code",
   "execution_count": 29,
   "metadata": {},
   "outputs": [],
   "source": [
    "# As SHIPMT_DIST_GC and SHIPMT_DIST_ROUTED has a huge correlation, hence removing one of them\n",
    "dataset.drop([\"SHIPMT_DIST_GC\"],\n",
    "            axis = 1,\n",
    "            inplace = True\n",
    "            )\n",
    "\n",
    "# dataset.drop([\"SHIPMT_DIST_ROUTED\"],\n",
    "#             axis = 1,\n",
    "#             inplace = True\n",
    "#             )"
   ]
  },
  {
   "cell_type": "markdown",
   "metadata": {},
   "source": [
    "# Transformations"
   ]
  },
  {
   "cell_type": "code",
   "execution_count": 30,
   "metadata": {},
   "outputs": [
    {
     "name": "stdout",
     "output_type": "stream",
     "text": [
      "Feature SHIPMT_VALUE should be categorical\n",
      "Feature SHIPMT_WGHT should be categorical\n",
      "Feature SHIPMT_DIST_ROUTED should be categorical\n",
      "Feature WGT_FACTOR should be categorical\n"
     ]
    }
   ],
   "source": [
    "# Prepare dummy variables for all categorical variablces\n",
    "for featureName in dataset.columns:\n",
    "    if str(dataset[featureName].dtype) in [\"str\", \"object\"]:\n",
    "        dummies = pd.get_dummies(dataset[featureName], prefix=featureName, prefix_sep = \"_\", drop_first = True)\n",
    "        dataset = pd.concat([dataset, dummies], axis=1)\n",
    "        dataset.drop( featureName, axis = 1, inplace = True)\n",
    "    else:\n",
    "        print(f'Feature {featureName} should be categorical')"
   ]
  },
  {
   "cell_type": "code",
   "execution_count": 31,
   "metadata": {},
   "outputs": [
    {
     "name": "stdout",
     "output_type": "stream",
     "text": [
      "Mean                           >>> 7.8351175077620585\n",
      "Median                         >>> 7.738488122494646\n",
      "Mode                           >>> 0    4.6728\n",
      "dtype: float64\n",
      "Standard Deviation             >>> 1.9069205513811054\n",
      "Maxiumn                        >>> 13.81533054176233\n",
      "Minimum                        >>> 4.624972813284271\n",
      "Skewness                       >>> 0.22397410020759898\n"
     ]
    },
    {
     "data": {
      "image/png": "[encoded data removed]",
      "text/plain": [
       "<Figure size 432x288 with 1 Axes>"
      ]
     },
     "metadata": {
      "needs_background": "light"
     },
     "output_type": "display_data"
    },
    {
     "data": {
      "text/plain": [
       "<matplotlib.axes._subplots.AxesSubplot at 0x2503c178248>"
      ]
     },
     "execution_count": 31,
     "metadata": {},
     "output_type": "execute_result"
    },
    {
     "data": {
      "image/png": "[encoded data removed]",
      "text/plain": [
       "<Figure size 432x288 with 1 Axes>"
      ]
     },
     "metadata": {
      "needs_background": "light"
     },
     "output_type": "display_data"
    }
   ],
   "source": [
    "# Tranform data using log method and verify Outlier and skewness\n",
    "dataset[\"LOG_SHIPMT_VALUE\"] = np.log(dataset[\"SHIPMT_VALUE\"] + 1 )\n",
    "\n",
    "# Statistics for SHIPMT_VALUE\n",
    "print(f'{\"Mean\":30s} >>> {dataset[\"LOG_SHIPMT_VALUE\"].mean()}')\n",
    "print(f'{\"Median\":30s} >>> {dataset[\"LOG_SHIPMT_VALUE\"].median()}')\n",
    "print(f'{\"Mode\":30s} >>> {dataset[\"LOG_SHIPMT_VALUE\"].mode()}')\n",
    "print(f'{\"Standard Deviation\":30s} >>> {dataset[\"LOG_SHIPMT_VALUE\"].std()}')\n",
    "print(f'{\"Maxiumn\":30s} >>> {dataset[\"LOG_SHIPMT_VALUE\"].max()}')\n",
    "print(f'{\"Minimum\":30s} >>> {dataset[\"LOG_SHIPMT_VALUE\"].min()}')\n",
    "print(f'{\"Skewness\":30s} >>> {dataset[\"LOG_SHIPMT_VALUE\"].skew()}')\n",
    "\n",
    "# Check for distribution\n",
    "dataset[\"LOG_SHIPMT_VALUE\"].hist(bins=100, grid=False, xlabelsize=12, ylabelsize=12)\n",
    "plt.xlabel(\"Life Expectancy\", fontsize=15)\n",
    "plt.ylabel(\"Frequency\",fontsize=15)\n",
    "sns.distplot(dataset[\"LOG_SHIPMT_VALUE\"])\n",
    "plt.show()\n",
    "\n",
    "# Check for outliers\n",
    "sns.boxplot(x=dataset[\"LOG_SHIPMT_VALUE\"])"
   ]
  },
  {
   "cell_type": "code",
   "execution_count": 32,
   "metadata": {},
   "outputs": [
    {
     "name": "stdout",
     "output_type": "stream",
     "text": [
      "Mean                           >>> 7.503273463914624\n",
      "Median                         >>> 7.519149957669823\n",
      "Mode                           >>> 0    0.6931\n",
      "dtype: float64\n",
      "Standard Deviation             >>> 2.8472043447451045\n",
      "Maxiumn                        >>> 19.439634921258072\n",
      "Minimum                        >>> 0.6931471805599453\n",
      "Skewness                       >>> -0.2690448246662025\n"
     ]
    },
    {
     "data": {
      "image/png": "[encoded data removed]",
      "text/plain": [
       "<Figure size 432x288 with 1 Axes>"
      ]
     },
     "metadata": {
      "needs_background": "light"
     },
     "output_type": "display_data"
    },
    {
     "data": {
      "text/plain": [
       "<matplotlib.axes._subplots.AxesSubplot at 0x2503c0de048>"
      ]
     },
     "execution_count": 32,
     "metadata": {},
     "output_type": "execute_result"
    },
    {
     "data": {
      "image/png": "[encoded data removed]",
      "text/plain": [
       "<Figure size 432x288 with 1 Axes>"
      ]
     },
     "metadata": {
      "needs_background": "light"
     },
     "output_type": "display_data"
    }
   ],
   "source": [
    "# Tranform data using boxcox method and verify\n",
    "dataset[\"LOG_SHIPMT_WGHT\"] = np.log(dataset[\"SHIPMT_WGHT\"] + 1)\n",
    "\n",
    "# Statistics for SHIPMT_WGHT\n",
    "print(f'{\"Mean\":30s} >>> {dataset[\"LOG_SHIPMT_WGHT\"].mean()}')\n",
    "print(f'{\"Median\":30s} >>> {dataset[\"LOG_SHIPMT_WGHT\"].median()}')\n",
    "print(f'{\"Mode\":30s} >>> {dataset[\"LOG_SHIPMT_WGHT\"].mode()}')\n",
    "print(f'{\"Standard Deviation\":30s} >>> {dataset[\"LOG_SHIPMT_WGHT\"].std()}')\n",
    "print(f'{\"Maxiumn\":30s} >>> {dataset[\"LOG_SHIPMT_WGHT\"].max()}')\n",
    "print(f'{\"Minimum\":30s} >>> {dataset[\"LOG_SHIPMT_WGHT\"].min()}')\n",
    "print(f'{\"Skewness\":30s} >>> {dataset[\"LOG_SHIPMT_WGHT\"].skew()}')\n",
    "\n",
    "# Check for distribution\n",
    "dataset[\"LOG_SHIPMT_WGHT\"].hist(bins=100, grid=False, xlabelsize=12, ylabelsize=12)\n",
    "plt.xlabel(\"Life Expectancy\", fontsize=15)\n",
    "plt.ylabel(\"Frequency\",fontsize=15)\n",
    "sns.distplot(dataset[\"LOG_SHIPMT_WGHT\"])\n",
    "plt.show()\n",
    "\n",
    "# Check for outliers\n",
    "sns.boxplot(x=dataset[\"LOG_SHIPMT_WGHT\"])"
   ]
  },
  {
   "cell_type": "code",
   "execution_count": 33,
   "metadata": {},
   "outputs": [],
   "source": [
    "if \"SHIPMT_DIST_GC\" in dataset.columns:\n",
    "    # Tranform data using boxcox method and verify\n",
    "    dataset[\"LOG_SHIPMT_DIST_GC\"] = np.log(dataset[\"SHIPMT_DIST_GC\"] + 1)\n",
    "\n",
    "    # Statistics for SHIPMT_DIST_GC\n",
    "    print(f'{\"Mean\":30s} >>> {dataset[\"LOG_SHIPMT_DIST_GC\"].mean()}')\n",
    "    print(f'{\"Median\":30s} >>> {dataset[\"LOG_SHIPMT_DIST_GC\"].median()}')\n",
    "    print(f'{\"Mode\":30s} >>> {dataset[\"LOG_SHIPMT_DIST_GC\"].mode()}')\n",
    "    print(f'{\"Standard Deviation\":30s} >>> {dataset[\"LOG_SHIPMT_DIST_GC\"].std()}')\n",
    "    print(f'{\"Maxiumn\":30s} >>> {dataset[\"LOG_SHIPMT_DIST_GC\"].max()}')\n",
    "    print(f'{\"Minimum\":30s} >>> {dataset[\"LOG_SHIPMT_DIST_GC\"].min()}')\n",
    "    print(f'{\"Skewness\":30s} >>> {dataset[\"LOG_SHIPMT_DIST_GC\"].skew()}')\n",
    "\n",
    "    # Check for distribution\n",
    "    dataset[\"LOG_SHIPMT_DIST_GC\"].hist(bins=100, grid=False, xlabelsize=12, ylabelsize=12)\n",
    "    plt.xlabel(\"Life Expectancy\", fontsize=15)\n",
    "    plt.ylabel(\"Frequency\",fontsize=15)\n",
    "    sns.distplot(dataset[\"LOG_SHIPMT_DIST_GC\"])\n",
    "    plt.show()\n",
    "\n",
    "    # Check for outliers\n",
    "    sns.boxplot(x=dataset[\"LOG_SHIPMT_DIST_GC\"])"
   ]
  },
  {
   "cell_type": "code",
   "execution_count": 34,
   "metadata": {},
   "outputs": [
    {
     "name": "stdout",
     "output_type": "stream",
     "text": [
      "Mean                           >>> 4.409859194045095\n",
      "Median                         >>> 4.2626798770413155\n",
      "Mode                           >>> 0    1.6094\n",
      "dtype: float64\n",
      "Standard Deviation             >>> 1.8396022159881582\n",
      "Maxiumn                        >>> 8.62998601889136\n",
      "Minimum                        >>> 0.6931471805599453\n",
      "Skewness                       >>> 0.13470421801338864\n"
     ]
    },
    {
     "data": {
      "image/png": "[encoded data removed]",
      "text/plain": [
       "<Figure size 432x288 with 1 Axes>"
      ]
     },
     "metadata": {
      "needs_background": "light"
     },
     "output_type": "display_data"
    },
    {
     "data": {
      "image/png": "[encoded data removed]",
      "text/plain": [
       "<Figure size 432x288 with 1 Axes>"
      ]
     },
     "metadata": {
      "needs_background": "light"
     },
     "output_type": "display_data"
    }
   ],
   "source": [
    "if \"SHIPMT_DIST_ROUTED\" in dataset.columns:\n",
    "    # Tranform data using boxcox method and verify\n",
    "    dataset[\"LOG_SHIPMT_DIST_ROUTED\"] = np.log(dataset[\"SHIPMT_DIST_ROUTED\"] + 1)\n",
    "\n",
    "    # Statistics for SHIPMT_DIST_ROUTED\n",
    "    print(f'{\"Mean\":30s} >>> {dataset[\"LOG_SHIPMT_DIST_ROUTED\"].mean()}')\n",
    "    print(f'{\"Median\":30s} >>> {dataset[\"LOG_SHIPMT_DIST_ROUTED\"].median()}')\n",
    "    print(f'{\"Mode\":30s} >>> {dataset[\"LOG_SHIPMT_DIST_ROUTED\"].mode()}')\n",
    "    print(f'{\"Standard Deviation\":30s} >>> {dataset[\"LOG_SHIPMT_DIST_ROUTED\"].std()}')\n",
    "    print(f'{\"Maxiumn\":30s} >>> {dataset[\"LOG_SHIPMT_DIST_ROUTED\"].max()}')\n",
    "    print(f'{\"Minimum\":30s} >>> {dataset[\"LOG_SHIPMT_DIST_ROUTED\"].min()}')\n",
    "    print(f'{\"Skewness\":30s} >>> {dataset[\"LOG_SHIPMT_DIST_ROUTED\"].skew()}')\n",
    "\n",
    "    # Check for distribution\n",
    "    dataset[\"LOG_SHIPMT_DIST_ROUTED\"].hist(bins=100, grid=False, xlabelsize=12, ylabelsize=12)\n",
    "    plt.xlabel(\"Life Expectancy\", fontsize=15)\n",
    "    plt.ylabel(\"Frequency\",fontsize=15)\n",
    "    sns.distplot(dataset[\"LOG_SHIPMT_DIST_ROUTED\"])\n",
    "    plt.show()\n",
    "\n",
    "    # Check for outliers\n",
    "    sns.boxplot(x=dataset[\"LOG_SHIPMT_DIST_ROUTED\"])"
   ]
  },
  {
   "cell_type": "code",
   "execution_count": 35,
   "metadata": {},
   "outputs": [
    {
     "name": "stdout",
     "output_type": "stream",
     "text": [
      "Mean                           >>> 5.57544582435555\n",
      "Median                         >>> 5.502889532276811\n",
      "Mode                           >>> 0    2.8679\n",
      "dtype: float64\n",
      "Standard Deviation             >>> 1.6028187636883846\n",
      "Maxiumn                        >>> 13.790192749979985\n",
      "Minimum                        >>> -0.5108256237659907\n",
      "Skewness                       >>> 0.2720131296393699\n"
     ]
    },
    {
     "data": {
      "image/png": "[encoded data removed]",
      "text/plain": [
       "<Figure size 432x288 with 1 Axes>"
      ]
     },
     "metadata": {
      "needs_background": "light"
     },
     "output_type": "display_data"
    },
    {
     "data": {
      "text/plain": [
       "<matplotlib.axes._subplots.AxesSubplot at 0x24f85b1d248>"
      ]
     },
     "execution_count": 35,
     "metadata": {},
     "output_type": "execute_result"
    },
    {
     "data": {
      "image/png": "[encoded data removed]",
      "text/plain": [
       "<Figure size 432x288 with 1 Axes>"
      ]
     },
     "metadata": {
      "needs_background": "light"
     },
     "output_type": "display_data"
    }
   ],
   "source": [
    "# Tranform data using boxcox method and verify\n",
    "dataset[\"LOG_WGT_FACTOR\"] = np.log(dataset[\"WGT_FACTOR\"])\n",
    "\n",
    "# Statistics for WGT_FACTOR\n",
    "print(f'{\"Mean\":30s} >>> {dataset[\"LOG_WGT_FACTOR\"].mean()}')\n",
    "print(f'{\"Median\":30s} >>> {dataset[\"LOG_WGT_FACTOR\"].median()}')\n",
    "print(f'{\"Mode\":30s} >>> {dataset[\"LOG_WGT_FACTOR\"].mode()}')\n",
    "print(f'{\"Standard Deviation\":30s} >>> {dataset[\"LOG_WGT_FACTOR\"].std()}')\n",
    "print(f'{\"Maxiumn\":30s} >>> {dataset[\"LOG_WGT_FACTOR\"].max()}')\n",
    "print(f'{\"Minimum\":30s} >>> {dataset[\"LOG_WGT_FACTOR\"].min()}')\n",
    "print(f'{\"Skewness\":30s} >>> {dataset[\"LOG_WGT_FACTOR\"].skew()}')\n",
    "\n",
    "# Check for distribution\n",
    "dataset[\"LOG_WGT_FACTOR\"].hist(bins=100, grid=False, xlabelsize=12, ylabelsize=12)\n",
    "plt.xlabel(\"Life Expectancy\", fontsize=15)\n",
    "plt.ylabel(\"Frequency\",fontsize=15)\n",
    "sns.distplot(dataset[\"LOG_WGT_FACTOR\"])\n",
    "plt.show()\n",
    "\n",
    "# Check for outliers\n",
    "sns.boxplot(x=dataset[\"LOG_WGT_FACTOR\"])"
   ]
  },
  {
   "cell_type": "code",
   "execution_count": 36,
   "metadata": {},
   "outputs": [],
   "source": [
    "# Removing original features for which transformation is done\n",
    "# dataset.drop([\"SHIPMT_VALUE\", \"SHIPMT_WGHT\", \"SHIPMT_DIST_GC\", \"WGT_FACTOR\"],\n",
    "#             axis = 1,\n",
    "#             inplace = True\n",
    "#             )\n",
    "\n",
    "\n",
    "dataset.drop([\"SHIPMT_VALUE\", \"SHIPMT_WGHT\", \"SHIPMT_DIST_ROUTED\", \"WGT_FACTOR\"],\n",
    "            axis = 1,\n",
    "            inplace = True\n",
    "            )"
   ]
  },
  {
   "cell_type": "code",
   "execution_count": 37,
   "metadata": {},
   "outputs": [
    {
     "data": {
      "text/plain": [
       "(1192621, 268)"
      ]
     },
     "execution_count": 37,
     "metadata": {},
     "output_type": "execute_result"
    }
   ],
   "source": [
    "dataset.shape"
   ]
  },
  {
   "cell_type": "code",
   "execution_count": 38,
   "metadata": {},
   "outputs": [
    {
     "data": {
      "text/html": [
       "<div>\n",
       "<style scoped>\n",
       "    .dataframe tbody tr th:only-of-type {\n",
       "        vertical-align: middle;\n",
       "    }\n",
       "\n",
       "    .dataframe tbody tr th {\n",
       "        vertical-align: top;\n",
       "    }\n",
       "\n",
       "    .dataframe thead th {\n",
       "        text-align: right;\n",
       "    }\n",
       "</style>\n",
       "<table border=\"1\" class=\"dataframe\">\n",
       "  <thead>\n",
       "    <tr style=\"text-align: right;\">\n",
       "      <th></th>\n",
       "      <th>ORIG_STATE_10</th>\n",
       "      <th>ORIG_STATE_11</th>\n",
       "      <th>ORIG_STATE_12</th>\n",
       "      <th>ORIG_STATE_13</th>\n",
       "      <th>ORIG_STATE_15</th>\n",
       "      <th>ORIG_STATE_16</th>\n",
       "      <th>ORIG_STATE_17</th>\n",
       "      <th>ORIG_STATE_18</th>\n",
       "      <th>ORIG_STATE_19</th>\n",
       "      <th>ORIG_STATE_2</th>\n",
       "      <th>...</th>\n",
       "      <th>TEMP_CNTL_YN_Y</th>\n",
       "      <th>HAZMAT_N</th>\n",
       "      <th>HAZMAT_P</th>\n",
       "      <th>SCTG_GROUP_FOOD</th>\n",
       "      <th>SCTG_GROUP_FUEL</th>\n",
       "      <th>SCTG_GROUP_PLCHM</th>\n",
       "      <th>LOG_SHIPMT_VALUE</th>\n",
       "      <th>LOG_SHIPMT_WGHT</th>\n",
       "      <th>LOG_SHIPMT_DIST_ROUTED</th>\n",
       "      <th>LOG_WGT_FACTOR</th>\n",
       "    </tr>\n",
       "    <tr>\n",
       "      <th>SHIPMT_ID</th>\n",
       "      <th></th>\n",
       "      <th></th>\n",
       "      <th></th>\n",
       "      <th></th>\n",
       "      <th></th>\n",
       "      <th></th>\n",
       "      <th></th>\n",
       "      <th></th>\n",
       "      <th></th>\n",
       "      <th></th>\n",
       "      <th></th>\n",
       "      <th></th>\n",
       "      <th></th>\n",
       "      <th></th>\n",
       "      <th></th>\n",
       "      <th></th>\n",
       "      <th></th>\n",
       "      <th></th>\n",
       "      <th></th>\n",
       "      <th></th>\n",
       "      <th></th>\n",
       "    </tr>\n",
       "  </thead>\n",
       "  <tbody>\n",
       "    <tr>\n",
       "      <th>12</th>\n",
       "      <td>0</td>\n",
       "      <td>0</td>\n",
       "      <td>0</td>\n",
       "      <td>0</td>\n",
       "      <td>0</td>\n",
       "      <td>0</td>\n",
       "      <td>0</td>\n",
       "      <td>0</td>\n",
       "      <td>0</td>\n",
       "      <td>0</td>\n",
       "      <td>...</td>\n",
       "      <td>0</td>\n",
       "      <td>1</td>\n",
       "      <td>0</td>\n",
       "      <td>0</td>\n",
       "      <td>0</td>\n",
       "      <td>1</td>\n",
       "      <td>8.9285</td>\n",
       "      <td>8.2843</td>\n",
       "      <td>4.9698</td>\n",
       "      <td>4.3464</td>\n",
       "    </tr>\n",
       "    <tr>\n",
       "      <th>13</th>\n",
       "      <td>0</td>\n",
       "      <td>0</td>\n",
       "      <td>0</td>\n",
       "      <td>0</td>\n",
       "      <td>0</td>\n",
       "      <td>0</td>\n",
       "      <td>0</td>\n",
       "      <td>0</td>\n",
       "      <td>0</td>\n",
       "      <td>0</td>\n",
       "      <td>...</td>\n",
       "      <td>0</td>\n",
       "      <td>1</td>\n",
       "      <td>0</td>\n",
       "      <td>0</td>\n",
       "      <td>0</td>\n",
       "      <td>1</td>\n",
       "      <td>7.0562</td>\n",
       "      <td>1.3863</td>\n",
       "      <td>5.4889</td>\n",
       "      <td>6.3460</td>\n",
       "    </tr>\n",
       "    <tr>\n",
       "      <th>14</th>\n",
       "      <td>0</td>\n",
       "      <td>0</td>\n",
       "      <td>0</td>\n",
       "      <td>0</td>\n",
       "      <td>0</td>\n",
       "      <td>0</td>\n",
       "      <td>0</td>\n",
       "      <td>0</td>\n",
       "      <td>0</td>\n",
       "      <td>0</td>\n",
       "      <td>...</td>\n",
       "      <td>0</td>\n",
       "      <td>1</td>\n",
       "      <td>0</td>\n",
       "      <td>0</td>\n",
       "      <td>0</td>\n",
       "      <td>0</td>\n",
       "      <td>7.2605</td>\n",
       "      <td>10.8004</td>\n",
       "      <td>2.7081</td>\n",
       "      <td>6.2826</td>\n",
       "    </tr>\n",
       "    <tr>\n",
       "      <th>21</th>\n",
       "      <td>0</td>\n",
       "      <td>0</td>\n",
       "      <td>0</td>\n",
       "      <td>0</td>\n",
       "      <td>0</td>\n",
       "      <td>0</td>\n",
       "      <td>0</td>\n",
       "      <td>0</td>\n",
       "      <td>0</td>\n",
       "      <td>0</td>\n",
       "      <td>...</td>\n",
       "      <td>0</td>\n",
       "      <td>1</td>\n",
       "      <td>0</td>\n",
       "      <td>0</td>\n",
       "      <td>0</td>\n",
       "      <td>1</td>\n",
       "      <td>7.8379</td>\n",
       "      <td>8.0784</td>\n",
       "      <td>5.5722</td>\n",
       "      <td>4.2485</td>\n",
       "    </tr>\n",
       "    <tr>\n",
       "      <th>25</th>\n",
       "      <td>0</td>\n",
       "      <td>0</td>\n",
       "      <td>0</td>\n",
       "      <td>0</td>\n",
       "      <td>0</td>\n",
       "      <td>0</td>\n",
       "      <td>0</td>\n",
       "      <td>0</td>\n",
       "      <td>0</td>\n",
       "      <td>0</td>\n",
       "      <td>...</td>\n",
       "      <td>1</td>\n",
       "      <td>1</td>\n",
       "      <td>0</td>\n",
       "      <td>0</td>\n",
       "      <td>0</td>\n",
       "      <td>0</td>\n",
       "      <td>10.1849</td>\n",
       "      <td>10.4124</td>\n",
       "      <td>5.3936</td>\n",
       "      <td>4.7388</td>\n",
       "    </tr>\n",
       "  </tbody>\n",
       "</table>\n",
       "<p>5 rows × 268 columns</p>\n",
       "</div>"
      ],
      "text/plain": [
       "           ORIG_STATE_10  ORIG_STATE_11  ORIG_STATE_12  ORIG_STATE_13  \\\n",
       "SHIPMT_ID                                                               \n",
       "12                     0              0              0              0   \n",
       "13                     0              0              0              0   \n",
       "14                     0              0              0              0   \n",
       "21                     0              0              0              0   \n",
       "25                     0              0              0              0   \n",
       "\n",
       "           ORIG_STATE_15  ORIG_STATE_16  ORIG_STATE_17  ORIG_STATE_18  \\\n",
       "SHIPMT_ID                                                               \n",
       "12                     0              0              0              0   \n",
       "13                     0              0              0              0   \n",
       "14                     0              0              0              0   \n",
       "21                     0              0              0              0   \n",
       "25                     0              0              0              0   \n",
       "\n",
       "           ORIG_STATE_19  ORIG_STATE_2  ...  TEMP_CNTL_YN_Y  HAZMAT_N  \\\n",
       "SHIPMT_ID                               ...                             \n",
       "12                     0             0  ...               0         1   \n",
       "13                     0             0  ...               0         1   \n",
       "14                     0             0  ...               0         1   \n",
       "21                     0             0  ...               0         1   \n",
       "25                     0             0  ...               1         1   \n",
       "\n",
       "           HAZMAT_P  SCTG_GROUP_FOOD  SCTG_GROUP_FUEL  SCTG_GROUP_PLCHM  \\\n",
       "SHIPMT_ID                                                                 \n",
       "12                0                0                0                 1   \n",
       "13                0                0                0                 1   \n",
       "14                0                0                0                 0   \n",
       "21                0                0                0                 1   \n",
       "25                0                0                0                 0   \n",
       "\n",
       "           LOG_SHIPMT_VALUE  LOG_SHIPMT_WGHT  LOG_SHIPMT_DIST_ROUTED  \\\n",
       "SHIPMT_ID                                                              \n",
       "12                   8.9285           8.2843                  4.9698   \n",
       "13                   7.0562           1.3863                  5.4889   \n",
       "14                   7.2605          10.8004                  2.7081   \n",
       "21                   7.8379           8.0784                  5.5722   \n",
       "25                  10.1849          10.4124                  5.3936   \n",
       "\n",
       "           LOG_WGT_FACTOR  \n",
       "SHIPMT_ID                  \n",
       "12                 4.3464  \n",
       "13                 6.3460  \n",
       "14                 6.2826  \n",
       "21                 4.2485  \n",
       "25                 4.7388  \n",
       "\n",
       "[5 rows x 268 columns]"
      ]
     },
     "execution_count": 38,
     "metadata": {},
     "output_type": "execute_result"
    }
   ],
   "source": [
    "dataset.head()"
   ]
  },
  {
   "cell_type": "code",
   "execution_count": 39,
   "metadata": {},
   "outputs": [],
   "source": [
    "# # Export dataset\n",
    "# dataset.to_csv(\"exported_data.txt\")"
   ]
  },
  {
   "cell_type": "code",
   "execution_count": 65,
   "metadata": {},
   "outputs": [],
   "source": [
    "sample_Dataset = dataset.sample(frac = 0.40, random_state = 3456)"
   ]
  },
  {
   "cell_type": "code",
   "execution_count": 66,
   "metadata": {},
   "outputs": [
    {
     "data": {
      "text/plain": [
       "(477048, 268)"
      ]
     },
     "execution_count": 66,
     "metadata": {},
     "output_type": "execute_result"
    }
   ],
   "source": [
    "sample_Dataset.shape"
   ]
  },
  {
   "cell_type": "markdown",
   "metadata": {},
   "source": [
    "# Modelling"
   ]
  },
  {
   "cell_type": "code",
   "execution_count": 67,
   "metadata": {},
   "outputs": [
    {
     "data": {
      "text/plain": [
       "Index(['ORIG_STATE_10', 'ORIG_STATE_11', 'ORIG_STATE_12', 'ORIG_STATE_13',\n",
       "       'ORIG_STATE_15', 'ORIG_STATE_16', 'ORIG_STATE_17', 'ORIG_STATE_18',\n",
       "       'ORIG_STATE_19', 'ORIG_STATE_2',\n",
       "       ...\n",
       "       'MODE_8', 'TEMP_CNTL_YN_Y', 'HAZMAT_N', 'HAZMAT_P', 'SCTG_GROUP_FOOD',\n",
       "       'SCTG_GROUP_FUEL', 'SCTG_GROUP_PLCHM', 'LOG_SHIPMT_WGHT',\n",
       "       'LOG_SHIPMT_DIST_ROUTED', 'LOG_WGT_FACTOR'],\n",
       "      dtype='object', length=267)"
      ]
     },
     "execution_count": 67,
     "metadata": {},
     "output_type": "execute_result"
    }
   ],
   "source": [
    "# Split Traing and Test data\n",
    "\n",
    "# Without Transformation\n",
    "# target = dataset.SHIPMT_VALUE\n",
    "# inputs = dataset.drop(columns = ['SHIPMT_VALUE'])\n",
    "# inputs.columns\n",
    "\n",
    "# With Transformation\n",
    "target = sample_Dataset.LOG_SHIPMT_VALUE\n",
    "inputs = sample_Dataset.drop(columns = ['LOG_SHIPMT_VALUE'])\n",
    "inputs.columns"
   ]
  },
  {
   "cell_type": "code",
   "execution_count": 68,
   "metadata": {},
   "outputs": [],
   "source": [
    "# metrics function\n",
    "def calculate_performance_matrix(y_true, y_pred, dataType, inverseValue = True):\n",
    "    score = r2_score(y_true, y_pred)\n",
    "    if inverseValue:\n",
    "        y_true = (np.exp(y_true)-1)\n",
    "        y_pred =  (np.exp(y_pred)-1)\n",
    "    \n",
    "    mae = mean_absolute_error(y_true, y_pred)\n",
    "    mse = mean_squared_error(y_true, y_pred)\n",
    "    max_error_ = max_error(y_true, y_pred)\n",
    "    \n",
    "    matrix = {dataType + '_mean_absolute_error':  [mae],\n",
    "              dataType + '_mean_squared_error': [mse],\n",
    "              dataType + '_r2_score': [score],\n",
    "              dataType + '_max_error': [max_error_]\n",
    "             }\n",
    "\n",
    "    return pd.DataFrame(matrix)"
   ]
  },
  {
   "cell_type": "markdown",
   "metadata": {},
   "source": [
    "# Split Train and Test 80:20 ratio"
   ]
  },
  {
   "cell_type": "code",
   "execution_count": 69,
   "metadata": {},
   "outputs": [],
   "source": [
    "X_Train, X_Test, Y_Train, Y_Test = train_test_split(inputs, target, test_size = 0.2, random_state = 12345)"
   ]
  },
  {
   "cell_type": "markdown",
   "metadata": {},
   "source": [
    "# Mulitple Linear regression"
   ]
  },
  {
   "cell_type": "code",
   "execution_count": 45,
   "metadata": {},
   "outputs": [
    {
     "data": {
      "text/plain": [
       "LinearRegression(copy_X=True, fit_intercept=True, n_jobs=None, normalize=True)"
      ]
     },
     "execution_count": 45,
     "metadata": {},
     "output_type": "execute_result"
    }
   ],
   "source": [
    "# Munish\n",
    "# Fit Regression Model\n",
    "regressor = LinearRegression(fit_intercept  = True, normalize = True)\n",
    "regressor.fit(X_Train, Y_Train)"
   ]
  },
  {
   "cell_type": "code",
   "execution_count": 46,
   "metadata": {},
   "outputs": [],
   "source": [
    "# Predicting the Test set results\n",
    "Y_Train_Pred = regressor.predict(X_Train)\n",
    "Y_Test_Pred = regressor.predict(X_Test)"
   ]
  },
  {
   "cell_type": "code",
   "execution_count": 47,
   "metadata": {},
   "outputs": [
    {
     "data": {
      "text/plain": [
       "'Evaluate result for MLA'"
      ]
     },
     "metadata": {},
     "output_type": "display_data"
    },
    {
     "data": {
      "text/html": [
       "<div>\n",
       "<style scoped>\n",
       "    .dataframe tbody tr th:only-of-type {\n",
       "        vertical-align: middle;\n",
       "    }\n",
       "\n",
       "    .dataframe tbody tr th {\n",
       "        vertical-align: top;\n",
       "    }\n",
       "\n",
       "    .dataframe thead th {\n",
       "        text-align: right;\n",
       "    }\n",
       "</style>\n",
       "<table border=\"1\" class=\"dataframe\">\n",
       "  <thead>\n",
       "    <tr style=\"text-align: right;\">\n",
       "      <th></th>\n",
       "      <th>train_mean_absolute_error</th>\n",
       "      <th>train_mean_squared_error</th>\n",
       "      <th>train_r2_score</th>\n",
       "      <th>train_max_error</th>\n",
       "    </tr>\n",
       "  </thead>\n",
       "  <tbody>\n",
       "    <tr>\n",
       "      <th>0</th>\n",
       "      <td>9087.5839</td>\n",
       "      <td>1.2437e+09</td>\n",
       "      <td>0.7023</td>\n",
       "      <td>987547.6339</td>\n",
       "    </tr>\n",
       "  </tbody>\n",
       "</table>\n",
       "</div>"
      ],
      "text/plain": [
       "   train_mean_absolute_error  train_mean_squared_error  train_r2_score  \\\n",
       "0                  9087.5839                1.2437e+09          0.7023   \n",
       "\n",
       "   train_max_error  \n",
       "0      987547.6339  "
      ]
     },
     "metadata": {},
     "output_type": "display_data"
    },
    {
     "data": {
      "text/html": [
       "<div>\n",
       "<style scoped>\n",
       "    .dataframe tbody tr th:only-of-type {\n",
       "        vertical-align: middle;\n",
       "    }\n",
       "\n",
       "    .dataframe tbody tr th {\n",
       "        vertical-align: top;\n",
       "    }\n",
       "\n",
       "    .dataframe thead th {\n",
       "        text-align: right;\n",
       "    }\n",
       "</style>\n",
       "<table border=\"1\" class=\"dataframe\">\n",
       "  <thead>\n",
       "    <tr style=\"text-align: right;\">\n",
       "      <th></th>\n",
       "      <th>test_mean_absolute_error</th>\n",
       "      <th>test_mean_squared_error</th>\n",
       "      <th>test_r2_score</th>\n",
       "      <th>test_max_error</th>\n",
       "    </tr>\n",
       "  </thead>\n",
       "  <tbody>\n",
       "    <tr>\n",
       "      <th>0</th>\n",
       "      <td>9138.6761</td>\n",
       "      <td>1.3096e+09</td>\n",
       "      <td>0.7</td>\n",
       "      <td>963312.985</td>\n",
       "    </tr>\n",
       "  </tbody>\n",
       "</table>\n",
       "</div>"
      ],
      "text/plain": [
       "   test_mean_absolute_error  test_mean_squared_error  test_r2_score  \\\n",
       "0                 9138.6761               1.3096e+09            0.7   \n",
       "\n",
       "   test_max_error  \n",
       "0      963312.985  "
      ]
     },
     "metadata": {},
     "output_type": "display_data"
    }
   ],
   "source": [
    "display(\"Evaluate result for MLA\")\n",
    "display(calculate_performance_matrix(Y_Train, Y_Train_Pred, \"train\"))\n",
    "display(calculate_performance_matrix(Y_Test, Y_Test_Pred, \"test\"))"
   ]
  },
  {
   "cell_type": "code",
   "execution_count": 51,
   "metadata": {},
   "outputs": [
    {
     "data": {
      "text/plain": [
       "[<matplotlib.lines.Line2D at 0x2503c19c8c8>]"
      ]
     },
     "execution_count": 51,
     "metadata": {},
     "output_type": "execute_result"
    },
    {
     "data": {
      "image/png": "[encoded data removed]",
      "text/plain": [
       "<Figure size 864x432 with 1 Axes>"
      ]
     },
     "metadata": {
      "needs_background": "light"
     },
     "output_type": "display_data"
    }
   ],
   "source": [
    "plt.figure(figsize=(12,6))\n",
    "plt.scatter(Y_Test,Y_Test_Pred)\n",
    "plt.plot(Y_Test,Y_Test,color='red')"
   ]
  },
  {
   "cell_type": "markdown",
   "metadata": {},
   "source": [
    "# Random Forest Regressor"
   ]
  },
  {
   "cell_type": "code",
   "execution_count": 72,
   "metadata": {},
   "outputs": [],
   "source": [
    "# Shikhir\n",
    "# Develop Random Forest Regressor Model\n",
    "\n",
    "\n",
    "random_forest_regressor= RandomForestRegressor(bootstrap=True,\n",
    "                                                   ccp_alpha=0.0,\n",
    "                                                   criterion='mse',\n",
    "                                                   max_depth=50,\n",
    "                                                   max_features='auto',\n",
    "                                                   max_leaf_nodes=None,\n",
    "                                                   max_samples=None,\n",
    "                                                   min_impurity_decrease=0.0,\n",
    "                                                   min_impurity_split=None,\n",
    "                                                   min_samples_leaf=1,\n",
    "                                                   min_samples_split=2,\n",
    "                                                   min_weight_fraction_leaf=0.0,\n",
    "                                                   n_estimators=100,\n",
    "                                                   n_jobs=None, oob_score=False)\n",
    "\n",
    "\n",
    "random_forest_regressor.fit(X_Train, Y_Train);"
   ]
  },
  {
   "cell_type": "code",
   "execution_count": 73,
   "metadata": {},
   "outputs": [],
   "source": [
    "# Predicting the Train and Test set results\n",
    "rft_Y_Train_Pred = random_forest_regressor.predict(X_Train)\n",
    "rft_Y_Test_Pred = random_forest_regressor.predict(X_Test)"
   ]
  },
  {
   "cell_type": "code",
   "execution_count": 74,
   "metadata": {},
   "outputs": [
    {
     "data": {
      "text/plain": [
       "'Evaluate result for MLA'"
      ]
     },
     "metadata": {},
     "output_type": "display_data"
    },
    {
     "data": {
      "text/html": [
       "<div>\n",
       "<style scoped>\n",
       "    .dataframe tbody tr th:only-of-type {\n",
       "        vertical-align: middle;\n",
       "    }\n",
       "\n",
       "    .dataframe tbody tr th {\n",
       "        vertical-align: top;\n",
       "    }\n",
       "\n",
       "    .dataframe thead th {\n",
       "        text-align: right;\n",
       "    }\n",
       "</style>\n",
       "<table border=\"1\" class=\"dataframe\">\n",
       "  <thead>\n",
       "    <tr style=\"text-align: right;\">\n",
       "      <th></th>\n",
       "      <th>train_mean_absolute_error</th>\n",
       "      <th>train_mean_squared_error</th>\n",
       "      <th>train_r2_score</th>\n",
       "      <th>train_max_error</th>\n",
       "    </tr>\n",
       "  </thead>\n",
       "  <tbody>\n",
       "    <tr>\n",
       "      <th>0</th>\n",
       "      <td>2407.9524</td>\n",
       "      <td>2.1145e+08</td>\n",
       "      <td>0.9758</td>\n",
       "      <td>888284.5195</td>\n",
       "    </tr>\n",
       "  </tbody>\n",
       "</table>\n",
       "</div>"
      ],
      "text/plain": [
       "   train_mean_absolute_error  train_mean_squared_error  train_r2_score  \\\n",
       "0                  2407.9524                2.1145e+08          0.9758   \n",
       "\n",
       "   train_max_error  \n",
       "0      888284.5195  "
      ]
     },
     "metadata": {},
     "output_type": "display_data"
    },
    {
     "data": {
      "text/html": [
       "<div>\n",
       "<style scoped>\n",
       "    .dataframe tbody tr th:only-of-type {\n",
       "        vertical-align: middle;\n",
       "    }\n",
       "\n",
       "    .dataframe tbody tr th {\n",
       "        vertical-align: top;\n",
       "    }\n",
       "\n",
       "    .dataframe thead th {\n",
       "        text-align: right;\n",
       "    }\n",
       "</style>\n",
       "<table border=\"1\" class=\"dataframe\">\n",
       "  <thead>\n",
       "    <tr style=\"text-align: right;\">\n",
       "      <th></th>\n",
       "      <th>test_mean_absolute_error</th>\n",
       "      <th>test_mean_squared_error</th>\n",
       "      <th>test_r2_score</th>\n",
       "      <th>test_max_error</th>\n",
       "    </tr>\n",
       "  </thead>\n",
       "  <tbody>\n",
       "    <tr>\n",
       "      <th>0</th>\n",
       "      <td>4854.8711</td>\n",
       "      <td>5.0609e+08</td>\n",
       "      <td>0.852</td>\n",
       "      <td>934210.4752</td>\n",
       "    </tr>\n",
       "  </tbody>\n",
       "</table>\n",
       "</div>"
      ],
      "text/plain": [
       "   test_mean_absolute_error  test_mean_squared_error  test_r2_score  \\\n",
       "0                 4854.8711               5.0609e+08          0.852   \n",
       "\n",
       "   test_max_error  \n",
       "0     934210.4752  "
      ]
     },
     "metadata": {},
     "output_type": "display_data"
    }
   ],
   "source": [
    "display(\"Evaluate result for Random Forest\")\n",
    "display(calculate_performance_matrix(Y_Train, rft_Y_Train_Pred, \"train\"))\n",
    "display(calculate_performance_matrix(Y_Test, rft_Y_Test_Pred, \"test\"))"
   ]
  },
  {
   "cell_type": "code",
   "execution_count": 75,
   "metadata": {},
   "outputs": [
    {
     "data": {
      "text/plain": [
       "[<matplotlib.lines.Line2D at 0x24f85c4f708>]"
      ]
     },
     "execution_count": 75,
     "metadata": {},
     "output_type": "execute_result"
    },
    {
     "data": {
      "image/png": "[encoded data removed]",
      "text/plain": [
       "<Figure size 864x432 with 1 Axes>"
      ]
     },
     "metadata": {
      "needs_background": "light"
     },
     "output_type": "display_data"
    }
   ],
   "source": [
    "plt.figure(figsize=(12,6))\n",
    "plt.scatter(Y_Test,rft_Y_Test_Pred)\n",
    "plt.plot(Y_Test,Y_Test,color='red')"
   ]
  },
  {
   "cell_type": "markdown",
   "metadata": {},
   "source": [
    "# GradientBoostingRegressor"
   ]
  },
  {
   "cell_type": "code",
   "execution_count": 76,
   "metadata": {},
   "outputs": [
    {
     "data": {
      "text/plain": [
       "GradientBoostingRegressor(alpha=0.9, ccp_alpha=0.0, criterion='friedman_mse',\n",
       "                          init=None, learning_rate=1, loss='ls', max_depth=4,\n",
       "                          max_features=None, max_leaf_nodes=None,\n",
       "                          min_impurity_decrease=0.0, min_impurity_split=None,\n",
       "                          min_samples_leaf=1, min_samples_split=2,\n",
       "                          min_weight_fraction_leaf=0.0, n_estimators=100,\n",
       "                          n_iter_no_change=None, presort='deprecated',\n",
       "                          random_state=None, subsample=0.8, tol=0.0001,\n",
       "                          validation_fraction=0.1, verbose=0, warm_start=False)"
      ]
     },
     "execution_count": 76,
     "metadata": {},
     "output_type": "execute_result"
    }
   ],
   "source": [
    "# Priyanka\n",
    "gradient_boosting_regressor = GradientBoostingRegressor(n_estimators=100, learning_rate=1, subsample = 0.8, max_depth=4)\n",
    "gradient_boosting_regressor.fit(X_Train, Y_Train)"
   ]
  },
  {
   "cell_type": "code",
   "execution_count": 77,
   "metadata": {},
   "outputs": [],
   "source": [
    "# Predicting the Train and Test set results\n",
    "GBR_Y_Train_Pred = gradient_boosting_regressor.predict(X_Train)\n",
    "GBR_Y_Test_Pred = gradient_boosting_regressor.predict(X_Test)"
   ]
  },
  {
   "cell_type": "code",
   "execution_count": 78,
   "metadata": {},
   "outputs": [
    {
     "data": {
      "text/plain": [
       "'Evaluate result for Gradient Boosting'"
      ]
     },
     "metadata": {},
     "output_type": "display_data"
    },
    {
     "data": {
      "text/html": [
       "<div>\n",
       "<style scoped>\n",
       "    .dataframe tbody tr th:only-of-type {\n",
       "        vertical-align: middle;\n",
       "    }\n",
       "\n",
       "    .dataframe tbody tr th {\n",
       "        vertical-align: top;\n",
       "    }\n",
       "\n",
       "    .dataframe thead th {\n",
       "        text-align: right;\n",
       "    }\n",
       "</style>\n",
       "<table border=\"1\" class=\"dataframe\">\n",
       "  <thead>\n",
       "    <tr style=\"text-align: right;\">\n",
       "      <th></th>\n",
       "      <th>train_mean_absolute_error</th>\n",
       "      <th>train_mean_squared_error</th>\n",
       "      <th>train_r2_score</th>\n",
       "      <th>train_max_error</th>\n",
       "    </tr>\n",
       "  </thead>\n",
       "  <tbody>\n",
       "    <tr>\n",
       "      <th>0</th>\n",
       "      <td>7652.9308</td>\n",
       "      <td>1.0669e+09</td>\n",
       "      <td>0.7903</td>\n",
       "      <td>3.4751e+06</td>\n",
       "    </tr>\n",
       "  </tbody>\n",
       "</table>\n",
       "</div>"
      ],
      "text/plain": [
       "   train_mean_absolute_error  train_mean_squared_error  train_r2_score  \\\n",
       "0                  7652.9308                1.0669e+09          0.7903   \n",
       "\n",
       "   train_max_error  \n",
       "0       3.4751e+06  "
      ]
     },
     "metadata": {},
     "output_type": "display_data"
    },
    {
     "data": {
      "text/html": [
       "<div>\n",
       "<style scoped>\n",
       "    .dataframe tbody tr th:only-of-type {\n",
       "        vertical-align: middle;\n",
       "    }\n",
       "\n",
       "    .dataframe tbody tr th {\n",
       "        vertical-align: top;\n",
       "    }\n",
       "\n",
       "    .dataframe thead th {\n",
       "        text-align: right;\n",
       "    }\n",
       "</style>\n",
       "<table border=\"1\" class=\"dataframe\">\n",
       "  <thead>\n",
       "    <tr style=\"text-align: right;\">\n",
       "      <th></th>\n",
       "      <th>test_mean_absolute_error</th>\n",
       "      <th>test_mean_squared_error</th>\n",
       "      <th>test_r2_score</th>\n",
       "      <th>test_max_error</th>\n",
       "    </tr>\n",
       "  </thead>\n",
       "  <tbody>\n",
       "    <tr>\n",
       "      <th>0</th>\n",
       "      <td>7759.5031</td>\n",
       "      <td>1.1061e+09</td>\n",
       "      <td>0.7798</td>\n",
       "      <td>2.4500e+06</td>\n",
       "    </tr>\n",
       "  </tbody>\n",
       "</table>\n",
       "</div>"
      ],
      "text/plain": [
       "   test_mean_absolute_error  test_mean_squared_error  test_r2_score  \\\n",
       "0                 7759.5031               1.1061e+09         0.7798   \n",
       "\n",
       "   test_max_error  \n",
       "0      2.4500e+06  "
      ]
     },
     "metadata": {},
     "output_type": "display_data"
    }
   ],
   "source": [
    "display(\"Evaluate result for Gradient Boosting\")\n",
    "display(calculate_performance_matrix(Y_Train, GBR_Y_Train_Pred, \"train\"))\n",
    "display(calculate_performance_matrix(Y_Test, GBR_Y_Test_Pred, \"test\"))"
   ]
  },
  {
   "cell_type": "code",
   "execution_count": 60,
   "metadata": {},
   "outputs": [
    {
     "data": {
      "text/plain": [
       "[<matplotlib.lines.Line2D at 0x24f85b6a208>]"
      ]
     },
     "execution_count": 60,
     "metadata": {},
     "output_type": "execute_result"
    },
    {
     "data": {
      "image/png": "[encoded data removed]",
      "text/plain": [
       "<Figure size 864x432 with 1 Axes>"
      ]
     },
     "metadata": {
      "needs_background": "light"
     },
     "output_type": "display_data"
    }
   ],
   "source": [
    "plt.figure(figsize=(12,6))\n",
    "plt.scatter(Y_Test,GBR_Y_Test_Pred)\n",
    "plt.plot(Y_Test,Y_Test,color='red')"
   ]
  },
  {
   "cell_type": "markdown",
   "metadata": {},
   "source": [
    "# Decision Tree Regressor"
   ]
  },
  {
   "cell_type": "code",
   "execution_count": 55,
   "metadata": {},
   "outputs": [
    {
     "data": {
      "text/plain": [
       "DecisionTreeRegressor(ccp_alpha=0.0, criterion='mse', max_depth=16,\n",
       "                      max_features=None, max_leaf_nodes=20,\n",
       "                      min_impurity_decrease=0.0, min_impurity_split=None,\n",
       "                      min_samples_leaf=2, min_samples_split=2,\n",
       "                      min_weight_fraction_leaf=0.0, presort='deprecated',\n",
       "                      random_state=None, splitter='best')"
      ]
     },
     "execution_count": 55,
     "metadata": {},
     "output_type": "execute_result"
    }
   ],
   "source": [
    "# Niyati\n",
    "decision_tree_regressor = DecisionTreeRegressor(criterion='mse', max_depth=16, max_features=None,\n",
    "           max_leaf_nodes=20, min_impurity_decrease=0.0,\n",
    "           min_impurity_split=None, min_samples_leaf=2,\n",
    "           min_samples_split=2, min_weight_fraction_leaf=0.0,\n",
    "           random_state=None, splitter='best')\n",
    "decision_tree_regressor.fit(X_Train, Y_Train)"
   ]
  },
  {
   "cell_type": "code",
   "execution_count": 56,
   "metadata": {},
   "outputs": [],
   "source": [
    "# Predicting the Train and Test set results\n",
    "dtr_Y_Train_Pred = decision_tree_regressor.predict(X_Train)\n",
    "dtr_Y_Test_Pred = decision_tree_regressor.predict(X_Test)"
   ]
  },
  {
   "cell_type": "code",
   "execution_count": 57,
   "metadata": {},
   "outputs": [
    {
     "name": "stdout",
     "output_type": "stream",
     "text": [
      "Root mean square error scores: [1.02096447 1.03878738 1.05997291 1.03106347 1.04447199 1.05717096\n",
      " 1.05653465 1.04940475 1.04624884 1.02701682]\n",
      "Mean: 1.0431636243819469\n",
      "Standard deviation: 0.01275465053562446\n"
     ]
    }
   ],
   "source": [
    "tree_scores = cross_val_score(decision_tree_regressor, X_Train, Y_Train,\n",
    "                              scoring = \"neg_mean_squared_error\", \n",
    "                              cv = 10)\n",
    "\n",
    "tree_rmse_scores = np.sqrt(-tree_scores)\n",
    "\n",
    "print(\"Root mean square error scores:\", tree_rmse_scores)\n",
    "print(\"Mean:\", tree_rmse_scores.mean())\n",
    "print(\"Standard deviation:\", tree_rmse_scores.std())"
   ]
  },
  {
   "cell_type": "code",
   "execution_count": 58,
   "metadata": {},
   "outputs": [
    {
     "data": {
      "text/plain": [
       "'Evaluate result for MLA'"
      ]
     },
     "metadata": {},
     "output_type": "display_data"
    },
    {
     "data": {
      "text/html": [
       "<div>\n",
       "<style scoped>\n",
       "    .dataframe tbody tr th:only-of-type {\n",
       "        vertical-align: middle;\n",
       "    }\n",
       "\n",
       "    .dataframe tbody tr th {\n",
       "        vertical-align: top;\n",
       "    }\n",
       "\n",
       "    .dataframe thead th {\n",
       "        text-align: right;\n",
       "    }\n",
       "</style>\n",
       "<table border=\"1\" class=\"dataframe\">\n",
       "  <thead>\n",
       "    <tr style=\"text-align: right;\">\n",
       "      <th></th>\n",
       "      <th>train_mean_absolute_error</th>\n",
       "      <th>train_mean_squared_error</th>\n",
       "      <th>train_r2_score</th>\n",
       "      <th>train_max_error</th>\n",
       "    </tr>\n",
       "  </thead>\n",
       "  <tbody>\n",
       "    <tr>\n",
       "      <th>0</th>\n",
       "      <td>9413.9752</td>\n",
       "      <td>1.5413e+09</td>\n",
       "      <td>0.7005</td>\n",
       "      <td>987648.7243</td>\n",
       "    </tr>\n",
       "  </tbody>\n",
       "</table>\n",
       "</div>"
      ],
      "text/plain": [
       "   train_mean_absolute_error  train_mean_squared_error  train_r2_score  \\\n",
       "0                  9413.9752                1.5413e+09          0.7005   \n",
       "\n",
       "   train_max_error  \n",
       "0      987648.7243  "
      ]
     },
     "metadata": {},
     "output_type": "display_data"
    },
    {
     "data": {
      "text/html": [
       "<div>\n",
       "<style scoped>\n",
       "    .dataframe tbody tr th:only-of-type {\n",
       "        vertical-align: middle;\n",
       "    }\n",
       "\n",
       "    .dataframe tbody tr th {\n",
       "        vertical-align: top;\n",
       "    }\n",
       "\n",
       "    .dataframe thead th {\n",
       "        text-align: right;\n",
       "    }\n",
       "</style>\n",
       "<table border=\"1\" class=\"dataframe\">\n",
       "  <thead>\n",
       "    <tr style=\"text-align: right;\">\n",
       "      <th></th>\n",
       "      <th>test_mean_absolute_error</th>\n",
       "      <th>test_mean_squared_error</th>\n",
       "      <th>test_r2_score</th>\n",
       "      <th>test_max_error</th>\n",
       "    </tr>\n",
       "  </thead>\n",
       "  <tbody>\n",
       "    <tr>\n",
       "      <th>0</th>\n",
       "      <td>9469.6001</td>\n",
       "      <td>1.6182e+09</td>\n",
       "      <td>0.6959</td>\n",
       "      <td>971576.4847</td>\n",
       "    </tr>\n",
       "  </tbody>\n",
       "</table>\n",
       "</div>"
      ],
      "text/plain": [
       "   test_mean_absolute_error  test_mean_squared_error  test_r2_score  \\\n",
       "0                 9469.6001               1.6182e+09         0.6959   \n",
       "\n",
       "   test_max_error  \n",
       "0     971576.4847  "
      ]
     },
     "metadata": {},
     "output_type": "display_data"
    }
   ],
   "source": [
    "display(\"Evaluate result for Decision Tree\")\n",
    "display(calculate_performance_matrix(Y_Train, dtr_Y_Train_Pred, \"train\"))\n",
    "display(calculate_performance_matrix(Y_Test, dtr_Y_Test_Pred, \"test\"))"
   ]
  },
  {
   "cell_type": "code",
   "execution_count": 59,
   "metadata": {},
   "outputs": [
    {
     "data": {
      "text/plain": [
       "[<matplotlib.lines.Line2D at 0x24f85ca6c08>]"
      ]
     },
     "execution_count": 59,
     "metadata": {},
     "output_type": "execute_result"
    },
    {
     "data": {
      "image/png": "[encoded data removed]",
      "text/plain": [
       "<Figure size 864x432 with 1 Axes>"
      ]
     },
     "metadata": {
      "needs_background": "light"
     },
     "output_type": "display_data"
    }
   ],
   "source": [
    "plt.figure(figsize=(12,6))\n",
    "plt.scatter(Y_Test,dtr_Y_Test_Pred)\n",
    "plt.plot(Y_Test,Y_Test,color='red')"
   ]
  },
  {
   "cell_type": "markdown",
   "metadata": {},
   "source": [
    "# Neural Network"
   ]
  },
  {
   "cell_type": "code",
   "execution_count": 95,
   "metadata": {},
   "outputs": [
    {
     "data": {
      "text/plain": [
       "Index(['ORIG_STATE_10', 'ORIG_STATE_11', 'ORIG_STATE_12', 'ORIG_STATE_13',\n",
       "       'ORIG_STATE_15', 'ORIG_STATE_16', 'ORIG_STATE_17', 'ORIG_STATE_18',\n",
       "       'ORIG_STATE_19', 'ORIG_STATE_2',\n",
       "       ...\n",
       "       'MODE_8', 'TEMP_CNTL_YN_Y', 'HAZMAT_N', 'HAZMAT_P', 'SCTG_GROUP_FOOD',\n",
       "       'SCTG_GROUP_FUEL', 'SCTG_GROUP_PLCHM', 'LOG_SHIPMT_WGHT',\n",
       "       'LOG_SHIPMT_DIST_ROUTED', 'LOG_WGT_FACTOR'],\n",
       "      dtype='object', length=267)"
      ]
     },
     "execution_count": 95,
     "metadata": {},
     "output_type": "execute_result"
    }
   ],
   "source": [
    "target_neural = (sample_Dataset.LOG_SHIPMT_VALUE).values\n",
    "inputs_neural = (sample_Dataset.drop(columns = ['LOG_SHIPMT_VALUE'])).values\n",
    "inputs.columns"
   ]
  },
  {
   "cell_type": "code",
   "execution_count": 96,
   "metadata": {},
   "outputs": [],
   "source": [
    "X_Train_neural, X_Test_neural, Y_Train_neural, Y_Test_neural = train_test_split(inputs_neural, target_neural, \n",
    "                                                                                test_size = 0.2, random_state = 12345)"
   ]
  },
  {
   "cell_type": "code",
   "execution_count": 97,
   "metadata": {},
   "outputs": [],
   "source": [
    "model_NN_3=Sequential()\n",
    "\n",
    "model_NN_3.add(Dense(268,activation='relu'))\n",
    "model_NN_3.add(Dense(268,activation='relu'))\n",
    "model_NN_3.add(Dense(268,activation='relu'))\n",
    "model_NN_3.add(Dense(268,activation='relu'))\n",
    "\n",
    "model_NN_3.add(Dense(1))\n",
    "\n",
    "model_NN_3.compile(optimizer='adam',loss='mse')"
   ]
  },
  {
   "cell_type": "code",
   "execution_count": 98,
   "metadata": {},
   "outputs": [],
   "source": [
    "early_stop=EarlyStopping(monitor='val_loss',mode='min',verbose=1,patience=10)"
   ]
  },
  {
   "cell_type": "code",
   "execution_count": 99,
   "metadata": {
    "scrolled": true
   },
   "outputs": [
    {
     "name": "stdout",
     "output_type": "stream",
     "text": [
      "Train on 381638 samples, validate on 95410 samples\n",
      "Epoch 1/200\n",
      "381638/381638 [==============================] - 66s 172us/sample - loss: 0.9560 - val_loss: 0.8719\n",
      "Epoch 2/200\n",
      "381638/381638 [==============================] - 64s 168us/sample - loss: 0.7839 - val_loss: 0.8418\n",
      "Epoch 3/200\n",
      "381638/381638 [==============================] - 59s 154us/sample - loss: 0.7352 - val_loss: 0.7643\n",
      "Epoch 4/200\n",
      "381638/381638 [==============================] - 61s 160us/sample - loss: 0.7044 - val_loss: 0.7273\n",
      "Epoch 5/200\n",
      "381638/381638 [==============================] - 65s 170us/sample - loss: 0.6798 - val_loss: 0.7049\n",
      "Epoch 6/200\n",
      "381638/381638 [==============================] - 61s 159us/sample - loss: 0.6595 - val_loss: 0.7319\n",
      "Epoch 7/200\n",
      "381638/381638 [==============================] - 64s 169us/sample - loss: 0.6435 - val_loss: 0.6782\n",
      "Epoch 8/200\n",
      "381638/381638 [==============================] - 67s 176us/sample - loss: 0.6285 - val_loss: 0.6777\n",
      "Epoch 9/200\n",
      "381638/381638 [==============================] - 65s 170us/sample - loss: 0.6152 - val_loss: 0.6998\n",
      "Epoch 10/200\n",
      "381638/381638 [==============================] - 63s 164us/sample - loss: 0.6029 - val_loss: 0.6595\n",
      "Epoch 11/200\n",
      "381638/381638 [==============================] - 66s 172us/sample - loss: 0.5933 - val_loss: 0.6747\n",
      "Epoch 12/200\n",
      "381638/381638 [==============================] - 64s 167us/sample - loss: 0.5848 - val_loss: 0.6698\n",
      "Epoch 13/200\n",
      "381638/381638 [==============================] - 63s 165us/sample - loss: 0.5765 - val_loss: 0.6489\n",
      "Epoch 14/200\n",
      "381638/381638 [==============================] - 62s 164us/sample - loss: 0.5701 - val_loss: 0.6479\n",
      "Epoch 15/200\n",
      "381638/381638 [==============================] - 65s 170us/sample - loss: 0.5620 - val_loss: 0.6437\n",
      "Epoch 16/200\n",
      "381638/381638 [==============================] - 63s 165us/sample - loss: 0.5559 - val_loss: 0.6463\n",
      "Epoch 17/200\n",
      "381638/381638 [==============================] - 63s 164us/sample - loss: 0.5501 - val_loss: 0.6518\n",
      "Epoch 18/200\n",
      "381638/381638 [==============================] - 61s 160us/sample - loss: 0.5439 - val_loss: 0.6775\n",
      "Epoch 19/200\n",
      "381638/381638 [==============================] - 65s 170us/sample - loss: 0.5392 - val_loss: 0.6472\n",
      "Epoch 20/200\n",
      "381638/381638 [==============================] - 57s 149us/sample - loss: 0.5343 - val_loss: 0.6432\n",
      "Epoch 21/200\n",
      "381638/381638 [==============================] - 61s 161us/sample - loss: 0.5292 - val_loss: 0.6338\n",
      "Epoch 22/200\n",
      "381638/381638 [==============================] - 61s 159us/sample - loss: 0.5245 - val_loss: 0.6488\n",
      "Epoch 23/200\n",
      "381638/381638 [==============================] - 62s 162us/sample - loss: 0.5198 - val_loss: 0.6531\n",
      "Epoch 24/200\n",
      "381638/381638 [==============================] - 63s 166us/sample - loss: 0.5159 - val_loss: 0.6621\n",
      "Epoch 25/200\n",
      "381638/381638 [==============================] - 61s 161us/sample - loss: 0.5121 - val_loss: 0.6510\n",
      "Epoch 26/200\n",
      "381638/381638 [==============================] - 65s 171us/sample - loss: 0.5075 - val_loss: 0.6362\n",
      "Epoch 27/200\n",
      "381638/381638 [==============================] - 60s 156us/sample - loss: 0.5031 - val_loss: 0.6379\n",
      "Epoch 28/200\n",
      "381638/381638 [==============================] - 61s 160us/sample - loss: 0.5001 - val_loss: 0.6368\n",
      "Epoch 29/200\n",
      "381638/381638 [==============================] - 59s 154us/sample - loss: 0.4956 - val_loss: 0.6443\n",
      "Epoch 30/200\n",
      "381638/381638 [==============================] - 62s 162us/sample - loss: 0.4931 - val_loss: 0.6512\n",
      "Epoch 31/200\n",
      "381638/381638 [==============================] - 63s 164us/sample - loss: 0.4898 - val_loss: 0.6353\n",
      "Epoch 00031: early stopping\n"
     ]
    },
    {
     "data": {
      "text/plain": [
       "<tensorflow.python.keras.callbacks.History at 0x2e18ace5e48>"
      ]
     },
     "execution_count": 99,
     "metadata": {},
     "output_type": "execute_result"
    }
   ],
   "source": [
    "model_NN_3.fit(x=X_Train_neural,y=Y_Train_neural,epochs=200,verbose=1,validation_data=(X_Test_neural,Y_Test_neural),\n",
    "               batch_size=64,callbacks=[early_stop])"
   ]
  },
  {
   "cell_type": "code",
   "execution_count": 101,
   "metadata": {},
   "outputs": [],
   "source": [
    "predictions_NN_3_train=model_NN_3.predict(X_Train_neural)\n",
    "predictions_NN_3_test=model_NN_3.predict(X_Test_neural)"
   ]
  },
  {
   "cell_type": "code",
   "execution_count": 103,
   "metadata": {
    "scrolled": true
   },
   "outputs": [
    {
     "data": {
      "text/html": [
       "<div>\n",
       "<style scoped>\n",
       "    .dataframe tbody tr th:only-of-type {\n",
       "        vertical-align: middle;\n",
       "    }\n",
       "\n",
       "    .dataframe tbody tr th {\n",
       "        vertical-align: top;\n",
       "    }\n",
       "\n",
       "    .dataframe thead th {\n",
       "        text-align: right;\n",
       "    }\n",
       "</style>\n",
       "<table border=\"1\" class=\"dataframe\">\n",
       "  <thead>\n",
       "    <tr style=\"text-align: right;\">\n",
       "      <th></th>\n",
       "      <th>test_mean_absolute_error</th>\n",
       "      <th>test_mean_squared_error</th>\n",
       "      <th>test_r2_score</th>\n",
       "      <th>test_max_error</th>\n",
       "    </tr>\n",
       "  </thead>\n",
       "  <tbody>\n",
       "    <tr>\n",
       "      <th>0</th>\n",
       "      <td>6426.1885</td>\n",
       "      <td>6.8773e+08</td>\n",
       "      <td>0.825</td>\n",
       "      <td>929056.125</td>\n",
       "    </tr>\n",
       "  </tbody>\n",
       "</table>\n",
       "</div>"
      ],
      "text/plain": [
       "   test_mean_absolute_error  test_mean_squared_error  test_r2_score  \\\n",
       "0                 6426.1885               6.8773e+08          0.825   \n",
       "\n",
       "   test_max_error  \n",
       "0      929056.125  "
      ]
     },
     "metadata": {},
     "output_type": "display_data"
    },
    {
     "data": {
      "text/html": [
       "<div>\n",
       "<style scoped>\n",
       "    .dataframe tbody tr th:only-of-type {\n",
       "        vertical-align: middle;\n",
       "    }\n",
       "\n",
       "    .dataframe tbody tr th {\n",
       "        vertical-align: top;\n",
       "    }\n",
       "\n",
       "    .dataframe thead th {\n",
       "        text-align: right;\n",
       "    }\n",
       "</style>\n",
       "<table border=\"1\" class=\"dataframe\">\n",
       "  <thead>\n",
       "    <tr style=\"text-align: right;\">\n",
       "      <th></th>\n",
       "      <th>train_mean_absolute_error</th>\n",
       "      <th>train_mean_squared_error</th>\n",
       "      <th>train_r2_score</th>\n",
       "      <th>train_max_error</th>\n",
       "    </tr>\n",
       "  </thead>\n",
       "  <tbody>\n",
       "    <tr>\n",
       "      <th>0</th>\n",
       "      <td>5987.703</td>\n",
       "      <td>6.6032e+08</td>\n",
       "      <td>0.869</td>\n",
       "      <td>3323016.5</td>\n",
       "    </tr>\n",
       "  </tbody>\n",
       "</table>\n",
       "</div>"
      ],
      "text/plain": [
       "   train_mean_absolute_error  train_mean_squared_error  train_r2_score  \\\n",
       "0                   5987.703                6.6032e+08           0.869   \n",
       "\n",
       "   train_max_error  \n",
       "0        3323016.5  "
      ]
     },
     "metadata": {},
     "output_type": "display_data"
    }
   ],
   "source": [
    "display(calculate_performance_matrix(Y_Test_neural,predictions_NN_3_test,\"test\"))\n",
    "display(calculate_performance_matrix(Y_Train_neural,predictions_NN_3_train,\"train\"))"
   ]
  },
  {
   "cell_type": "code",
   "execution_count": 104,
   "metadata": {
    "scrolled": false
   },
   "outputs": [
    {
     "data": {
      "text/plain": [
       "[<matplotlib.lines.Line2D at 0x2e18ad9d748>]"
      ]
     },
     "execution_count": 104,
     "metadata": {},
     "output_type": "execute_result"
    },
    {
     "data": {
      "image/png": "[encoded data removed]",
      "text/plain": [
       "<Figure size 864x432 with 1 Axes>"
      ]
     },
     "metadata": {
      "needs_background": "light"
     },
     "output_type": "display_data"
    }
   ],
   "source": [
    "plt.figure(figsize=(12,6))\n",
    "plt.scatter(Y_Test_neural,predictions_NN_3_test)\n",
    "plt.plot(Y_Test_neural,Y_Test_neural,color='red')"
   ]
  }
 ],
 "metadata": {
  "kernelspec": {
   "display_name": "Python 3",
   "language": "python",
   "name": "python3"
  },
  "language_info": {
   "codemirror_mode": {
    "name": "ipython",
    "version": 3
   },
   "file_extension": ".py",
   "mimetype": "text/x-python",
   "name": "python",
   "nbconvert_exporter": "python",
   "pygments_lexer": "ipython3",
   "version": "3.7.4"
  }
 },
 "nbformat": 4,
 "nbformat_minor": 4
}
